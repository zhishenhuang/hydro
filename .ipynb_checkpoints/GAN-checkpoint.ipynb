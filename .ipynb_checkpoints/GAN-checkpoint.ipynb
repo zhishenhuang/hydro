{
 "cells": [
  {
   "cell_type": "code",
   "execution_count": null,
   "id": "136bc137",
   "metadata": {},
   "outputs": [],
   "source": [
    "import xarray as xr\n",
    "import numpy as np\n",
    "import matplotlib.pyplot as plt\n",
    "from mpl_toolkits.axes_grid1 import make_axes_locatable\n",
    "%matplotlib inline\n",
    "import torch\n",
    "import torch.nn as nn\n",
    "import torch.optim as optim\n",
    "import os,sys\n",
    "import random\n",
    "from skimage.transform import resize\n",
    "import models\n",
    "sys.path.insert(0,'/home/huangz78/hydro/unet3d/')\n",
    "from models.unet3d_model import UNet3D\n",
    "from models.dnet import weights_init,Discriminator\n",
    "from models.utils import illustrate, visualization, noise_generate\n",
    "from train import gan_train\n",
    "from importlib import reload\n",
    "\n",
    "manualSeed = 999\n",
    "#manualSeed = random.randint(1, 10000) # use if you want new results\n",
    "print(\"Random Seed: \", manualSeed)\n",
    "random.seed(manualSeed)\n",
    "torch.manual_seed(manualSeed)"
   ]
  },
  {
   "cell_type": "code",
   "execution_count": null,
   "id": "5782cf55",
   "metadata": {
    "scrolled": true
   },
   "outputs": [],
   "source": [
    "ngpu = 0\n",
    "device = torch.device(\"cuda:0\" if (torch.cuda.is_available() and ngpu > 0) else \"cpu\")\n",
    "netD = Discriminator(ngpu).to(device)\n",
    "        \n",
    "# Apply the weights_init function to randomly initialize all weights\n",
    "#  to mean=0, stdev=0.2.\n",
    "netD.apply(weights_init)\n",
    "\n",
    "# Print the model\n",
    "# print(netD)"
   ]
  },
  {
   "cell_type": "code",
   "execution_count": null,
   "id": "322b14f1",
   "metadata": {},
   "outputs": [],
   "source": [
    "import train\n",
    "reload(train)\n",
    "# reload(models.buildingblocks)\n",
    "# reload(models.utils)\n",
    "from train import gan_train"
   ]
  },
  {
   "cell_type": "code",
   "execution_count": null,
   "id": "ae7038fc",
   "metadata": {
    "scrolled": false
   },
   "outputs": [],
   "source": [
    "gnet = UNet3D(1,1,is_segmentation=False,final_sigmoid=False)\n",
    "dnet = Discriminator(ngpu)\n",
    "gan_train(gnet,dnet,lrg=1e-4,lrd=1e-4,traintotal=2000,testtotal=100,dep=8,update_D_every=10,\\\n",
    "          b_size=5,num_epochs=1,weight_DD=1,\\\n",
    "          print_every=10,validate_every=10,fileexp_ind=5010,\\\n",
    "          ngpu=ngpu,manual_seed=manualSeed,\\\n",
    "          make_plot=True,save_cp=True)"
   ]
  },
  {
   "cell_type": "markdown",
   "id": "57c6a77a",
   "metadata": {},
   "source": [
    "### demo"
   ]
  },
  {
   "cell_type": "code",
   "execution_count": null,
   "id": "2246862f",
   "metadata": {},
   "outputs": [],
   "source": [
    "reload(models.utils)\n",
    "from models.utils import illustrate, visualization"
   ]
  },
  {
   "cell_type": "code",
   "execution_count": null,
   "id": "96e70a5e",
   "metadata": {
    "scrolled": false
   },
   "outputs": [],
   "source": [
    "errorRec_path = '/home/huangz78/checkpoints/gan_train_track.npz'\n",
    "errordata = np.load(errorRec_path)\n",
    "\n",
    "visualization(errordata['g_loss'],errordata['d_loss'],errordata['val_loss'],log1=True,log2=True,window=5)"
   ]
  },
  {
   "cell_type": "code",
   "execution_count": null,
   "id": "49adfbb9",
   "metadata": {},
   "outputs": [],
   "source": [
    "print('last 10 g_loss: ', errordata['g_loss'][-10:])\n",
    "print('last 10 d_loss: ', errordata['d_loss'][-10:])"
   ]
  },
  {
   "cell_type": "code",
   "execution_count": null,
   "id": "eba6bd8f",
   "metadata": {},
   "outputs": [],
   "source": [
    "datapath = '/mnt/shared_b/data/hydro_simulations/data/'\n",
    "ncfiles = list([])\n",
    "for file in os.listdir(datapath):\n",
    "    if file.endswith(\".nc\"):\n",
    "        ncfiles.append(file)\n",
    "print('Total amount of files:', len(ncfiles))\n",
    "img_size = 320\n",
    "dep = 8\n",
    "fileexp_ind = 5010\n",
    "# val = []\n",
    "# for fileexp_ind in range(len(ncfiles)):\n",
    "filename = ncfiles[fileexp_ind]\n",
    "sim = xr.open_dataarray(datapath+filename)\n",
    "# val.append(np.max(np.array(sim)[:dep,:,:].flatten()))\n",
    "sim.close()\n",
    "dyn   = np.zeros((1,1,dep,256,256))            # load one sample, show it\n",
    "noise = np.zeros((1,1,dep,256,256))    # make a noise sample, add it to the ground truth, show it\n",
    "for t in range(dep):\n",
    "    dyn[0,0,t,:,:] = resize(sim.isel(t=t)[:img_size,:img_size].values,(256,256),anti_aliasing=True)\n",
    "normalize_factor   = np.max( np.abs(dyn[0,0,:,:,:]).flatten() )\n",
    "dyn[0,0,:,:,:]  = dynexp[0,0,:,:,:] / normalize_factor\n",
    "for t in range(dep): # different noise for each frame when using a 'for' loop\n",
    "    noise[0,0,t,:,:] = noise_generate(dyn[0,0,t,:,:],mode='linear') \n",
    "dyn = torch.tensor(dyn).to(torch.float); noise = torch.tensor(noise).to(torch.float)\n",
    "\n",
    "%matplotlib inline\n",
    "illustrate(dyn)\n",
    "illustrate(noiseexp + dyn)\n",
    "# a = dyn[0,0,0,:,:]\n",
    "# a_full = complete(a)\n",
    "# plt.figure()\n",
    "# plt.imshow(a)\n",
    "# plt.title('orig')\n",
    "# plt.show()\n",
    "\n",
    "# plt.figure()\n",
    "# plt.imshow(a_full)\n",
    "# plt.title('full')\n",
    "# plt.show()"
   ]
  },
  {
   "cell_type": "code",
   "execution_count": null,
   "id": "b9b04f57",
   "metadata": {},
   "outputs": [],
   "source": [
    "# load a G net\n",
    "gnet = UNet3D(1,1,is_segmentation=False,final_sigmoid=False)\n",
    "gpath = '/home/huangz78/checkpoints/netG.pth'\n",
    "checkpoint = torch.load(gpath)\n",
    "gnet.load_state_dict(checkpoint['model_state_dict'])\n",
    "print(f'G net loaded from {gpath}')\n",
    "\n",
    "# apply denoiser, show the outcome\n",
    "noisy_dyn     = noiseexp + dyn\n",
    "denoised_samp = gnet(noisy_dyn)\n",
    "illustrate(denoised_samp)"
   ]
  },
  {
   "cell_type": "markdown",
   "id": "0229e74f",
   "metadata": {},
   "source": [
    "### scratch"
   ]
  },
  {
   "cell_type": "code",
   "execution_count": null,
   "id": "2f2a18cb",
   "metadata": {},
   "outputs": [],
   "source": [
    "def outsize(hin,win,ker=(3,3),stride=(1,1),padding=(0,0),dilation=(1,1)):\n",
    "    if isinstance(ker,int):\n",
    "        ker=(ker,ker)\n",
    "    if isinstance(stride,int):\n",
    "        stride=(stride,stride)\n",
    "    if isinstance(padding,int):\n",
    "        padding=(padding,padding)\n",
    "    if isinstance(dilation,int):\n",
    "        dilation=(dilation,dilation)\n",
    "    hout = int( (hin + 2*padding[0]- dilation[0]*(ker[0]-1)-1)/stride[0] + 1  )\n",
    "    wout = int( (win + 2*padding[1]- dilation[1]*(ker[1]-1)-1)/stride[1] + 1  )\n",
    "    return hout,wout"
   ]
  },
  {
   "cell_type": "code",
   "execution_count": null,
   "id": "b2295e08",
   "metadata": {},
   "outputs": [],
   "source": [
    "outsize(4,4,ker=(4,4),stride=(1,1),padding=(0,0),dilation=(1,1))"
   ]
  },
  {
   "cell_type": "code",
   "execution_count": null,
   "id": "7c993cdb",
   "metadata": {},
   "outputs": [],
   "source": [
    "h1,w1 = outsize(256,256,ker=(4,4),stride=(2,2),padding=(1,1))\n",
    "h2,w2 = outsize(h1,w1,ker=(4,4),stride=(2,2),padding=(1,1))\n",
    "h3,w3 = outsize(h2,w2,ker=(4,4),stride=(2,2),padding=(1,1))\n",
    "h4,w4 = outsize(h3,w3,ker=(4,4),stride=(2,2),padding=(1,1))\n",
    "h5,w5 = outsize(h4,w4,ker=(4,4),stride=(2,2),padding=(1,1))\n",
    "h6,w6 = outsize(h5,w5,ker=(4,4),stride=(2,2),padding=(1,1))\n",
    "h7,w7 = outsize(h6,w6,ker=(4,4),stride=(1,1),padding=(0,0))\n",
    "\n",
    "print(h1,w1)\n",
    "print(h2,w2)\n",
    "print(h3,w3)\n",
    "print(h4,w4)\n",
    "print(h5,w5)\n",
    "print(h6,w6)\n",
    "print(h7,w7)"
   ]
  },
  {
   "cell_type": "code",
   "execution_count": null,
   "id": "05573e19",
   "metadata": {},
   "outputs": [],
   "source": [
    "print(sim.dims)\n",
    "print(sim['t'].shape)"
   ]
  },
  {
   "cell_type": "code",
   "execution_count": null,
   "id": "7d01b340",
   "metadata": {},
   "outputs": [],
   "source": [
    "print(unet)\n",
    "\n",
    "batchshape = (1,1,dep,256,256)\n",
    "print(dyn[0,0,:dep,:,:].view(batchshape).shape)\n",
    "\n",
    "unet(dyn[0,0,:8,:,:].view(1,1,8,256,256).to(torch.float)).shape"
   ]
  },
  {
   "cell_type": "code",
   "execution_count": null,
   "id": "e2766932",
   "metadata": {},
   "outputs": [],
   "source": [
    "# Batch size during training\n",
    "b_size = 1\n",
    "\n",
    "# Spatial size of training images. All images will be resized to this\n",
    "#   size using a transformer.\n",
    "img_size = 320\n",
    "\n",
    "# Number of channels in the training images. For color images this is 3\n",
    "nc = 1\n",
    "\n",
    "# Size of z latent vector (i.e. size of generator input)\n",
    "# nz = 100\n",
    "\n",
    "# Size of feature maps in generator\n",
    "# ngf = 64\n",
    "\n",
    "# Size of feature maps in discriminator\n",
    "ndf = 64 # normal 3dunet\n",
    "# ndf = 2 # residual3dunet\n",
    "\n",
    "# Number of training epochs\n",
    "num_epochs = 5\n",
    "\n",
    "# Learning rate for optimizers\n",
    "lr = 0.0002\n",
    "\n",
    "# Beta1 hyperparam for Adam optimizers\n",
    "beta1 = 0.5\n",
    "\n",
    "# Number of GPUs available. Use 0 for CPU mode.\n",
    "ngpu = 0\n"
   ]
  }
 ],
 "metadata": {
  "kernelspec": {
   "display_name": "Python 3",
   "language": "python",
   "name": "python3"
  },
  "language_info": {
   "codemirror_mode": {
    "name": "ipython",
    "version": 3
   },
   "file_extension": ".py",
   "mimetype": "text/x-python",
   "name": "python",
   "nbconvert_exporter": "python",
   "pygments_lexer": "ipython3",
   "version": "3.7.5"
  }
 },
 "nbformat": 4,
 "nbformat_minor": 5
}
