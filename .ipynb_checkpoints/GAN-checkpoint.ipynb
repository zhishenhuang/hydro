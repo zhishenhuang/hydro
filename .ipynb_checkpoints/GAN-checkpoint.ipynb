{
 "cells": [
  {
   "cell_type": "code",
   "execution_count": 2,
   "id": "3fa076fa",
   "metadata": {},
   "outputs": [
    {
     "name": "stdout",
     "output_type": "stream",
     "text": [
      "Random Seed:  999\n"
     ]
    },
    {
     "data": {
      "text/plain": [
       "<torch._C.Generator at 0x7f1eaa863870>"
      ]
     },
     "execution_count": 2,
     "metadata": {},
     "output_type": "execute_result"
    }
   ],
   "source": [
    "import xarray as xr\n",
    "import numpy as np\n",
    "import matplotlib.pyplot as plt\n",
    "from mpl_toolkits.axes_grid1 import make_axes_locatable\n",
    "%matplotlib inline\n",
    "import torch\n",
    "import torch.nn as nn\n",
    "import torch.optim as optim\n",
    "import os,sys\n",
    "import random\n",
    "from skimage.transform import resize\n",
    "import models\n",
    "sys.path.insert(0,'/home/huangz78/hydro/unet3d/')\n",
    "from models.unet3d_model import UNet3D\n",
    "from models.dnet import weights_init,Discriminator\n",
    "from models.utils import illustrate, visualization\n",
    "from train import gan_train\n",
    "from importlib import reload\n",
    "\n",
    "manualSeed = 999\n",
    "#manualSeed = random.randint(1, 10000) # use if you want new results\n",
    "print(\"Random Seed: \", manualSeed)\n",
    "random.seed(manualSeed)\n",
    "torch.manual_seed(manualSeed)"
   ]
  },
  {
   "cell_type": "code",
   "execution_count": null,
   "id": "037f485f",
   "metadata": {
    "scrolled": true
   },
   "outputs": [],
   "source": [
    "ngpu = 0\n",
    "device = torch.device(\"cuda:0\" if (torch.cuda.is_available() and ngpu > 0) else \"cpu\")\n",
    "netD = Discriminator(ngpu).to(device)\n",
    "        \n",
    "# Apply the weights_init function to randomly initialize all weights\n",
    "#  to mean=0, stdev=0.2.\n",
    "netD.apply(weights_init)\n",
    "\n",
    "# Print the model\n",
    "# print(netD)"
   ]
  },
  {
   "cell_type": "code",
   "execution_count": null,
   "id": "0a04c4c6",
   "metadata": {},
   "outputs": [],
   "source": [
    "import models\n",
    "reload(models.train)\n",
    "# reload(models.buildingblocks)\n",
    "# reload(models.utils)\n",
    "from models.train import gan_train"
   ]
  },
  {
   "cell_type": "code",
   "execution_count": null,
   "id": "3f082af9",
   "metadata": {},
   "outputs": [],
   "source": [
    "gnet = UNet3D(1,1,is_segmentation=False,final_sigmoid=False)\n",
    "dnet = Discriminator(ngpu)\n",
    "gan_train(gnet,dnet,lrg=1e-4,lrd=1e-4,traintotal=5000,testtotal=50,dep=dep,update_D_every=10,\\\n",
    "          b_size=2,weight_DD=1,\\\n",
    "          print_every=10,validate_every=10,make_plot=True,fileexp_ind=fileexp_ind,\\\n",
    "          ngpu=ngpu,manual_seed=manualSeed,save_cp=False)"
   ]
  },
  {
   "cell_type": "code",
   "execution_count": null,
   "id": "a0ae0776",
   "metadata": {
    "scrolled": true
   },
   "outputs": [],
   "source": []
  },
  {
   "cell_type": "markdown",
   "id": "31a53da7",
   "metadata": {},
   "source": [
    "### demo"
   ]
  },
  {
   "cell_type": "code",
   "execution_count": null,
   "id": "7374fbcc",
   "metadata": {},
   "outputs": [],
   "source": [
    "reload(models.utils)\n",
    "from models.utils import illustrate, visualization"
   ]
  },
  {
   "cell_type": "code",
   "execution_count": null,
   "id": "c33f4fb0",
   "metadata": {
    "scrolled": false
   },
   "outputs": [],
   "source": [
    "errorRec_path = '/home/huangz78/checkpoints/gan_train_track.npz'\n",
    "errordata = np.load(errorRec_path)\n",
    "\n",
    "visualization(errordata['g_loss'],errordata['d_loss'],errordata['val_loss'],log1=True,log2=True,window=5)"
   ]
  },
  {
   "cell_type": "code",
   "execution_count": null,
   "id": "98ca12bb",
   "metadata": {},
   "outputs": [],
   "source": [
    "print('last 10 g_loss: ', errordata['g_loss'][-10:])\n",
    "print('last 10 d_loss: ', errordata['d_loss'][-10:])"
   ]
  },
  {
   "cell_type": "code",
   "execution_count": null,
   "id": "daa62e5c",
   "metadata": {},
   "outputs": [],
   "source": [
    "datapath = '/mnt/shared_b/data/hydro_simulations/data/'\n",
    "ncfiles = list([])\n",
    "for file in os.listdir(datapath):\n",
    "    if file.endswith(\".nc\"):\n",
    "        ncfiles.append(file)\n",
    "print('Total amount of files:', len(ncfiles))\n",
    "img_size = 320\n",
    "dep = 8\n",
    "fileexp_ind = 5010\n",
    "# val = []\n",
    "# for fileexp_ind in range(len(ncfiles)):\n",
    "filename = ncfiles[fileexp_ind]\n",
    "sim = xr.open_dataarray(datapath+filename)\n",
    "# val.append(np.max(np.array(sim)[:dep,:,:].flatten()))\n",
    "sim.close()\n",
    "dyn = np.zeros((1,1,dep,256,256))            # load one sample, show it\n",
    "noiseexp = torch.zeros((1,1,dep,256,256))    # make a noise sample, add it to the ground truth, show it\n",
    "for t in range(dep):\n",
    "    dyn[0,0,t,:,:] = resize(sim.isel(t=t)[:img_size,:img_size].values,(256,256),anti_aliasing=True)\n",
    "    noise_mag = 1/10*np.max(np.abs(dyn[0,0,t,:,:].flatten())) \n",
    "    noiseexp[0,0,t,:,:] = noise_mag * torch.randn(256,256) ## Gaussian Noise\n",
    "dyn = torch.tensor(dyn).to(torch.float)\n",
    "\n",
    "%matplotlib inline\n",
    "illustrate(dyn)\n",
    "illustrate(noiseexp + dyn)\n",
    "# a = dyn[0,0,0,:,:]\n",
    "# a_full = complete(a)\n",
    "# plt.figure()\n",
    "# plt.imshow(a)\n",
    "# plt.title('orig')\n",
    "# plt.show()\n",
    "\n",
    "# plt.figure()\n",
    "# plt.imshow(a_full)\n",
    "# plt.title('full')\n",
    "# plt.show()"
   ]
  },
  {
   "cell_type": "code",
   "execution_count": null,
   "id": "5aa6c77e",
   "metadata": {},
   "outputs": [],
   "source": [
    "# load a G net\n",
    "gnet = UNet3D(1,1,is_segmentation=False,final_sigmoid=False)\n",
    "gpath = '/home/huangz78/checkpoints/netG.pth'\n",
    "checkpoint = torch.load(gpath)\n",
    "gnet.load_state_dict(checkpoint['model_state_dict'])\n",
    "print(f'G net loaded from {gpath}')\n",
    "\n",
    "# apply denoiser, show the outcome\n",
    "noisy_dyn     = noiseexp + dyn\n",
    "denoised_samp = gnet(noisy_dyn)\n",
    "illustrate(denoised_samp)"
   ]
  },
  {
   "cell_type": "markdown",
   "id": "bb756e8e",
   "metadata": {},
   "source": [
    "### scratch"
   ]
  },
  {
   "cell_type": "code",
   "execution_count": null,
   "id": "3947a564",
   "metadata": {},
   "outputs": [],
   "source": [
    "def outsize(hin,win,ker=(3,3),stride=(1,1),padding=(0,0),dilation=(1,1)):\n",
    "    if isinstance(ker,int):\n",
    "        ker=(ker,ker)\n",
    "    if isinstance(stride,int):\n",
    "        stride=(stride,stride)\n",
    "    if isinstance(padding,int):\n",
    "        padding=(padding,padding)\n",
    "    if isinstance(dilation,int):\n",
    "        dilation=(dilation,dilation)\n",
    "    hout = int( (hin + 2*padding[0]- dilation[0]*(ker[0]-1)-1)/stride[0] + 1  )\n",
    "    wout = int( (win + 2*padding[1]- dilation[1]*(ker[1]-1)-1)/stride[1] + 1  )\n",
    "    return hout,wout"
   ]
  },
  {
   "cell_type": "code",
   "execution_count": null,
   "id": "f1fd00b6",
   "metadata": {},
   "outputs": [],
   "source": [
    "outsize(4,4,ker=(4,4),stride=(1,1),padding=(0,0),dilation=(1,1))"
   ]
  },
  {
   "cell_type": "code",
   "execution_count": null,
   "id": "ca7f9ffd",
   "metadata": {},
   "outputs": [],
   "source": [
    "h1,w1 = outsize(256,256,ker=(4,4),stride=(2,2),padding=(1,1))\n",
    "h2,w2 = outsize(h1,w1,ker=(4,4),stride=(2,2),padding=(1,1))\n",
    "h3,w3 = outsize(h2,w2,ker=(4,4),stride=(2,2),padding=(1,1))\n",
    "h4,w4 = outsize(h3,w3,ker=(4,4),stride=(2,2),padding=(1,1))\n",
    "h5,w5 = outsize(h4,w4,ker=(4,4),stride=(2,2),padding=(1,1))\n",
    "h6,w6 = outsize(h5,w5,ker=(4,4),stride=(2,2),padding=(1,1))\n",
    "h7,w7 = outsize(h6,w6,ker=(4,4),stride=(1,1),padding=(0,0))\n",
    "\n",
    "print(h1,w1)\n",
    "print(h2,w2)\n",
    "print(h3,w3)\n",
    "print(h4,w4)\n",
    "print(h5,w5)\n",
    "print(h6,w6)\n",
    "print(h7,w7)"
   ]
  },
  {
   "cell_type": "code",
   "execution_count": null,
   "id": "e52d5461",
   "metadata": {},
   "outputs": [],
   "source": [
    "print(sim.dims)\n",
    "print(sim['t'].shape)"
   ]
  },
  {
   "cell_type": "code",
   "execution_count": null,
   "id": "ba9ec8ac",
   "metadata": {},
   "outputs": [],
   "source": [
    "print(unet)\n",
    "\n",
    "batchshape = (1,1,dep,256,256)\n",
    "print(dyn[0,0,:dep,:,:].view(batchshape).shape)\n",
    "\n",
    "unet(dyn[0,0,:8,:,:].view(1,1,8,256,256).to(torch.float)).shape"
   ]
  },
  {
   "cell_type": "code",
   "execution_count": null,
   "id": "349d7e1f",
   "metadata": {},
   "outputs": [],
   "source": [
    "# Batch size during training\n",
    "b_size = 1\n",
    "\n",
    "# Spatial size of training images. All images will be resized to this\n",
    "#   size using a transformer.\n",
    "img_size = 320\n",
    "\n",
    "# Number of channels in the training images. For color images this is 3\n",
    "nc = 1\n",
    "\n",
    "# Size of z latent vector (i.e. size of generator input)\n",
    "# nz = 100\n",
    "\n",
    "# Size of feature maps in generator\n",
    "# ngf = 64\n",
    "\n",
    "# Size of feature maps in discriminator\n",
    "ndf = 64 # normal 3dunet\n",
    "# ndf = 2 # residual3dunet\n",
    "\n",
    "# Number of training epochs\n",
    "num_epochs = 5\n",
    "\n",
    "# Learning rate for optimizers\n",
    "lr = 0.0002\n",
    "\n",
    "# Beta1 hyperparam for Adam optimizers\n",
    "beta1 = 0.5\n",
    "\n",
    "# Number of GPUs available. Use 0 for CPU mode.\n",
    "ngpu = 0\n"
   ]
  }
 ],
 "metadata": {
  "kernelspec": {
   "display_name": "Python 3",
   "language": "python",
   "name": "python3"
  },
  "language_info": {
   "codemirror_mode": {
    "name": "ipython",
    "version": 3
   },
   "file_extension": ".py",
   "mimetype": "text/x-python",
   "name": "python",
   "nbconvert_exporter": "python",
   "pygments_lexer": "ipython3",
   "version": "3.7.5"
  }
 },
 "nbformat": 4,
 "nbformat_minor": 5
}
