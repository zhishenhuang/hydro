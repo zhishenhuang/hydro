{
 "cells": [
  {
   "cell_type": "code",
   "execution_count": 1,
   "id": "1bbc1f9f",
   "metadata": {},
   "outputs": [
    {
     "name": "stdout",
     "output_type": "stream",
     "text": [
      "13798\n"
     ]
    }
   ],
   "source": [
    "import os,sys\n",
    "import xarray as xr\n",
    "import numpy as np\n",
    "import matplotlib.pyplot as plt\n",
    "datapath = '/mnt/shared_b/data/hydro_simulations/data/'\n",
    "# print(os.listdir(path))\n",
    "\n",
    "ncfiles = list([])\n",
    "for file in os.listdir(datapath):\n",
    "    if file.endswith(\".nc\"):\n",
    "        ncfiles.append(file)\n",
    "print(len(ncfiles))\n",
    "ncfiles_all = ncfiles.copy()"
   ]
  },
  {
   "cell_type": "code",
   "execution_count": 3,
   "id": "eeb214a4",
   "metadata": {},
   "outputs": [
    {
     "data": {
      "text/plain": [
       "(array([1.3784e+04, 3.0000e+00, 3.0000e+00, 2.0000e+00, 1.0000e+00,\n",
       "        2.0000e+00, 2.0000e+00, 0.0000e+00, 0.0000e+00, 1.0000e+00]),\n",
       " array([1.66371002e+01, 4.86704373e+05, 9.73392110e+05, 1.46007985e+06,\n",
       "        1.94676758e+06, 2.43345532e+06, 2.92014305e+06, 3.40683079e+06,\n",
       "        3.89351853e+06, 4.38020626e+06, 4.86689400e+06]),\n",
       " <BarContainer object of 10 artists>)"
      ]
     },
     "execution_count": 3,
     "metadata": {},
     "output_type": "execute_result"
    },
    {
     "data": {
      "image/png": "[encoded data removed]",
      "text/plain": [
       "<Figure size 432x288 with 1 Axes>"
      ]
     },
     "metadata": {
      "needs_background": "light"
     },
     "output_type": "display_data"
    }
   ],
   "source": [
    "## check max value for first 8 slices\n",
    "img_size = 320\n",
    "dep = 8\n",
    "maxvals = np.zeros(len(ncfiles))\n",
    "for fileexp_ind in range(len(ncfiles)):\n",
    "# val = []\n",
    "# for fileexp_ind in range(len(ncfiles)):\n",
    "    filename = ncfiles[fileexp_ind]\n",
    "    sim = xr.open_dataarray(datapath+filename)\n",
    "# val.append(np.max(np.array(sim)[:dep,:,:].flatten()))\n",
    "    sim.close()\n",
    "    dyn   = np.zeros((1,1,dep,img_size,img_size))            # load one sample, show it\n",
    "    for t in range(dep):\n",
    "        dyn[0,0,t,:,:] = sim.isel(t=t)[:img_size,:img_size].values\n",
    "    maxvals[fileexp_ind] = np.max( dyn.flatten() )\n",
    "plt.hist(maxvals)"
   ]
  },
  {
   "cell_type": "code",
   "execution_count": 5,
   "id": "a5e08081",
   "metadata": {},
   "outputs": [
    {
     "data": {
      "text/plain": [
       "(array([1.3784e+04, 3.0000e+00, 3.0000e+00, 2.0000e+00, 1.0000e+00,\n",
       "        2.0000e+00, 2.0000e+00, 0.0000e+00, 0.0000e+00, 1.0000e+00]),\n",
       " array([1.66371002e+01, 4.86704373e+05, 9.73392110e+05, 1.46007985e+06,\n",
       "        1.94676758e+06, 2.43345532e+06, 2.92014305e+06, 3.40683079e+06,\n",
       "        3.89351853e+06, 4.38020626e+06, 4.86689400e+06]),\n",
       " <BarContainer object of 10 artists>)"
      ]
     },
     "execution_count": 5,
     "metadata": {},
     "output_type": "execute_result"
    },
    {
     "data": {
      "image/png": "[encoded data removed]",
      "text/plain": [
       "<Figure size 432x288 with 1 Axes>"
      ]
     },
     "metadata": {
      "needs_background": "light"
     },
     "output_type": "display_data"
    }
   ],
   "source": [
    "plt.hist(maxvals,log=True)"
   ]
  },
  {
   "cell_type": "code",
   "execution_count": 7,
   "id": "9555582b",
   "metadata": {
    "scrolled": true
   },
   "outputs": [
    {
     "data": {
      "text/plain": [
       "array([3.03223755e+02, 1.07316460e+02, 1.13252661e+03, 9.75483704e+02,\n",
       "       4.81068652e+03, 1.74650891e+05, 2.27309863e+03, 5.84039856e+02,\n",
       "       1.22819229e+02, 1.90573944e+02, 1.37645178e+03, 1.67211255e+03,\n",
       "       9.13317578e+03, 4.04036713e+02, 5.72174805e+03, 2.10195312e+04,\n",
       "       6.08882690e+02, 9.76431396e+02, 1.23463478e+02, 8.70910583e+02,\n",
       "       1.58759537e+02, 4.40681396e+02, 1.72685516e+02, 4.26375397e+02,\n",
       "       7.64086670e+02, 1.07609787e+02, 5.74335205e+02, 3.52880157e+02,\n",
       "       1.11289490e+02, 1.81664478e+03, 1.81632898e+03, 7.31093628e+02,\n",
       "       2.77940674e+02, 4.64313330e+03, 4.22210999e+02, 1.03536865e+03,\n",
       "       2.43242096e+02, 4.88581024e+02, 1.64718582e+02, 1.45162341e+03,\n",
       "       3.47288574e+02, 6.25688843e+02, 4.36298035e+02, 2.18725159e+02,\n",
       "       1.32038306e+03, 4.11325439e+02, 5.61997070e+02, 4.41836621e+03,\n",
       "       1.69819238e+03, 1.11212341e+02, 1.14553841e+02, 2.94258270e+02,\n",
       "       2.92597827e+03, 1.03922897e+02, 4.21282288e+02, 2.81198883e+02,\n",
       "       2.63136292e+02, 1.71114624e+02, 4.45763574e+03, 3.23206665e+02,\n",
       "       5.99230530e+02, 1.59126053e+02, 1.67984216e+03, 1.09583330e+04,\n",
       "       4.00531250e+02, 1.07066940e+02, 2.15682175e+02, 1.49886316e+03,\n",
       "       1.15361260e+04, 3.67344727e+02, 1.02223895e+03, 1.44974683e+03,\n",
       "       1.11930389e+02, 8.66548145e+03, 1.04675366e+03, 6.78910498e+03,\n",
       "       3.05107300e+02, 4.10936401e+02, 2.20174255e+02, 1.71310913e+03,\n",
       "       1.08907207e+04, 2.39513843e+03, 9.17096252e+02, 5.96338440e+02,\n",
       "       1.80185278e+03, 8.43958557e+02, 1.41538391e+03, 1.36709915e+02,\n",
       "       7.65058447e+03, 9.18318848e+02, 5.49668030e+02, 6.40391174e+02,\n",
       "       6.17584656e+02, 1.25144473e+04, 1.27134048e+02, 1.12220947e+02,\n",
       "       4.15979309e+02, 3.83248322e+02, 3.13536163e+02, 1.35309998e+02,\n",
       "       2.66119141e+02, 5.15531738e+02, 6.47264709e+02, 1.30734482e+02,\n",
       "       3.66891785e+02, 1.67714935e+02, 2.51611526e+02, 2.25059967e+02,\n",
       "       2.36151221e+03, 8.87698547e+02, 1.22854004e+03, 5.41179626e+02,\n",
       "       2.09072827e+03, 6.58820654e+03, 2.95158008e+03, 6.51956104e+03,\n",
       "       2.05120215e+03, 2.29143970e+03, 1.66878589e+03, 2.95182275e+03,\n",
       "       2.30096118e+03, 5.75920166e+02, 3.08544263e+03, 3.30298798e+02,\n",
       "       8.26032349e+02, 1.61794727e+03, 1.09831958e+03, 1.28958728e+03,\n",
       "       1.37802234e+03, 2.30366577e+03, 2.64595306e+02, 2.10133521e+03,\n",
       "       5.75342224e+02, 1.57606238e+03, 3.59908276e+03, 3.68012146e+02,\n",
       "       9.36813354e+02, 1.46145581e+03, 8.96051270e+02, 1.18567871e+03,\n",
       "       1.02263516e+04, 1.65681775e+03, 9.04349243e+02, 2.54042456e+03,\n",
       "       9.36502808e+02, 3.60068970e+03, 1.56365564e+03, 1.01416656e+02,\n",
       "       3.89493481e+03, 1.75589539e+03, 2.25638867e+03, 2.63770996e+02,\n",
       "       1.77977600e+03, 1.48793542e+03, 1.77028717e+02, 1.69917078e+03,\n",
       "       1.06352893e+03, 3.12780225e+03, 2.07578076e+03, 4.96079932e+03,\n",
       "       9.55198425e+02, 4.80066956e+02, 2.83234619e+03, 1.70599280e+03,\n",
       "       1.12713525e+03, 2.54215234e+03, 1.27801636e+03, 9.74189453e+02,\n",
       "       8.06671021e+02, 1.90266077e+03, 5.01959137e+02, 8.83336304e+02,\n",
       "       3.97778809e+02, 6.68538757e+02, 1.04494226e+03, 1.42040451e+02,\n",
       "       9.72033020e+02, 1.14416553e+03, 1.32120483e+03, 6.22897034e+02,\n",
       "       1.03573669e+03, 7.89780457e+02, 6.24720557e+03, 3.31171094e+03,\n",
       "       4.41582672e+02, 8.89903687e+02, 2.55071884e+02, 1.23167053e+02,\n",
       "       2.16377637e+03, 1.67446716e+03, 3.85521899e+03, 4.97878369e+03,\n",
       "       2.38463672e+03, 2.54010498e+03, 3.21417456e+03, 3.14503247e+03,\n",
       "       8.42130859e+02, 6.84946228e+02, 1.17251953e+02, 2.46581934e+03,\n",
       "       1.22679712e+03, 2.00266187e+03, 9.64833252e+02, 9.75899121e+03,\n",
       "       1.32926050e+03, 1.52827559e+04, 2.41511841e+02, 3.76816101e+02,\n",
       "       8.06887329e+02, 1.41918713e+03, 2.21075757e+03, 1.50421155e+03,\n",
       "       1.41366772e+03, 1.18341931e+03, 1.11426308e+02, 2.21785718e+03,\n",
       "       1.36521204e+03, 9.81730103e+02, 3.41368225e+02, 1.90589001e+03,\n",
       "       1.88496545e+03, 1.11676404e+03, 8.22474854e+02, 3.17724707e+03,\n",
       "       4.19078552e+02, 9.78043091e+02, 2.48494308e+02, 2.54834351e+03,\n",
       "       1.34954437e+02, 9.49098083e+02, 8.30398743e+02, 1.73576111e+03,\n",
       "       2.84171729e+03, 2.87625391e+03, 2.74094910e+02, 1.44420986e+04,\n",
       "       3.92901428e+02, 1.53664478e+03, 1.40169580e+03, 1.09004333e+02,\n",
       "       2.30240656e+05, 1.13247078e+02, 3.13767578e+03, 3.86205688e+03,\n",
       "       2.21144214e+03, 2.92337012e+03, 1.50703141e+05, 3.40179650e+06,\n",
       "       1.21267977e+05, 5.23283630e+02, 1.44089920e+02, 1.91793549e+02,\n",
       "       1.66453598e+02, 1.66757886e+03, 1.54211890e+03, 4.80700049e+03,\n",
       "       2.03250500e+03, 1.27456860e+03, 4.50028076e+03, 8.46988098e+02,\n",
       "       3.64351660e+03, 3.84422803e+03, 1.83153288e+06, 3.94659668e+02,\n",
       "       4.02815430e+02, 3.20157373e+03, 5.12823792e+02, 3.50206299e+02,\n",
       "       4.29878125e+03, 9.40415820e+03, 1.28606030e+03, 2.33871938e+05,\n",
       "       4.51602832e+03, 4.04142731e+02, 7.63066375e+05, 2.62897461e+03,\n",
       "       1.26054812e+05, 2.42427441e+03, 1.08692200e+03, 2.94165332e+03,\n",
       "       3.45380200e+03, 4.77161926e+02, 4.00518994e+03, 3.85848938e+02,\n",
       "       4.25358000e+05, 3.81114282e+03, 4.55382373e+03, 1.43682968e+02,\n",
       "       9.39887817e+02, 3.72794336e+03, 3.79073000e+05, 1.94364697e+03,\n",
       "       7.08945251e+02, 2.65913159e+03, 8.55887695e+02, 1.26459388e+06,\n",
       "       4.33033264e+02, 5.14880908e+03, 5.01100677e+02, 3.53109039e+02,\n",
       "       6.43207031e+04, 7.15181738e+03, 1.81440887e+02, 6.80617310e+02,\n",
       "       1.43346484e+03, 1.04369404e+04, 2.77669594e+05, 8.87914795e+02,\n",
       "       2.89545938e+05, 1.61151962e+02, 2.77843994e+03, 2.29523651e+02,\n",
       "       1.44490466e+03, 4.89674561e+02, 2.85051910e+02, 4.66605938e+04,\n",
       "       2.50359131e+03, 2.86501445e+04, 3.26796362e+03, 5.58029419e+02,\n",
       "       2.44434297e+05, 2.12615469e+05, 3.86382111e+02, 4.66625641e+02,\n",
       "       2.99405493e+03, 1.44665613e+03, 2.50288403e+03, 3.58515533e+02,\n",
       "       1.03275002e+02, 1.22530052e+02, 3.06598193e+03, 5.83290469e+04,\n",
       "       2.20103333e+02, 2.26465063e+03, 2.57571021e+03, 2.33255493e+02,\n",
       "       1.14312992e+05, 5.03626831e+02, 1.77062952e+03, 4.41680054e+02,\n",
       "       5.51358276e+02, 2.43612183e+03, 1.42874988e+03, 5.39387756e+02,\n",
       "       8.16461953e+04, 1.01979681e+03, 1.08288000e+03, 1.44392112e+06,\n",
       "       3.28538727e+02, 3.36675977e+04, 1.06020703e+04, 9.74552551e+02,\n",
       "       2.80053955e+03, 2.49634131e+03, 1.16150400e+04, 9.72384827e+02,\n",
       "       2.01720581e+03, 7.68844788e+02, 1.68915438e+05, 5.23118713e+02,\n",
       "       1.22026421e+02, 4.07015717e+02, 6.35310852e+02, 3.03479004e+03,\n",
       "       4.64612091e+02, 6.85846143e+03, 2.96155547e+04, 4.01535400e+02,\n",
       "       1.21900317e+03, 1.37351599e+03, 4.86689400e+06, 1.13458130e+03,\n",
       "       4.32768677e+02, 1.99054797e+03, 1.50957489e+02, 1.03605225e+03,\n",
       "       2.06524097e+03, 1.44690503e+03, 1.30392062e+05, 1.46258667e+03,\n",
       "       1.25240527e+03, 2.01409112e+06, 1.32431799e+03, 3.56210625e+05,\n",
       "       1.63363049e+03, 3.24634912e+03, 5.53091016e+03, 2.48789429e+03,\n",
       "       7.74670410e+02, 1.33302710e+03, 4.63874908e+02, 1.23446030e+02,\n",
       "       1.02347748e+03, 3.77277808e+03, 1.60992151e+03, 2.13760107e+03,\n",
       "       5.83389492e+04, 1.41945825e+03, 2.40457764e+02, 4.77630371e+02,\n",
       "       4.12853613e+03, 7.18766328e+04, 2.14371704e+02, 1.61997742e+03,\n",
       "       5.76696836e+04, 5.32478938e+05, 4.99460938e+03, 2.82362675e+06,\n",
       "       1.29507263e+03, 3.37334534e+02, 1.86304657e+02, 2.25792441e+04,\n",
       "       8.54433411e+02, 4.37169525e+02, 1.88119843e+02, 9.58031055e+03,\n",
       "       9.44461853e+02, 3.09740137e+04, 2.86809668e+04, 1.79125214e+02,\n",
       "       1.52830550e+06, 1.33674973e+02, 1.19190112e+06, 1.21661308e+02,\n",
       "       1.58325854e+03, 2.36308789e+03, 3.28540015e+03, 6.18683289e+02,\n",
       "       2.35569800e+03, 6.69797485e+02, 2.34998804e+03, 2.96004663e+03,\n",
       "       1.21820343e+02, 5.47783750e+04, 2.50446250e+06, 1.10132334e+04,\n",
       "       1.45970752e+03, 1.15011559e+02, 8.92933203e+04, 3.26971350e+06,\n",
       "       1.21181909e+03, 4.60827188e+05, 6.35109253e+02, 8.52488812e+05])"
      ]
     },
     "execution_count": 7,
     "metadata": {},
     "output_type": "execute_result"
    }
   ],
   "source": [
    "maxvals[maxvals>1e2]"
   ]
  },
  {
   "cell_type": "code",
   "execution_count": 2,
   "id": "8aeb4d86",
   "metadata": {},
   "outputs": [],
   "source": [
    "filename1 = ncfiles[0]\n",
    "# filename1 = 'data_ta_2d_profile2.vel1.mgrg02.s10.cs1.cv0.ptwg02.nc'\n",
    "# filename2 = 'data_ta_2d_profile2.vel5.mgrg03.s10.cs1.cv0.ptwg00.nc'\n",
    "sim1 = xr.open_dataarray(path+filename1)\n",
    "# sim2 = xr.open_dataarray(path+filename2)"
   ]
  },
  {
   "cell_type": "code",
   "execution_count": 3,
   "id": "c192edc3",
   "metadata": {},
   "outputs": [
    {
     "data": {
      "text/plain": [
       "'data_ta_2d_profile0.vel0.mgrg00.s10.cs0.cv0.ptwg00.nc'"
      ]
     },
     "execution_count": 3,
     "metadata": {},
     "output_type": "execute_result"
    }
   ],
   "source": [
    "ncfiles[0]"
   ]
  },
  {
   "cell_type": "code",
   "execution_count": 5,
   "id": "bbda787b",
   "metadata": {
    "scrolled": false
   },
   "outputs": [
    {
     "name": "stdout",
     "output_type": "stream",
     "text": [
      "13797\n"
     ]
    }
   ],
   "source": [
    "count = 0\n",
    "for filename2 in ncfiles:\n",
    "    sim2 = xr.open_dataarray(path+filename2)\n",
    "    if np.sum(np.abs(sim1.isel(t=-1).values - sim2.isel(t=-1).values)) != 0:\n",
    "        count += 1\n",
    "print(count)"
   ]
  },
  {
   "cell_type": "code",
   "execution_count": null,
   "id": "22ae0ae2",
   "metadata": {},
   "outputs": [],
   "source": [
    "np.sum(sim1.isel(t=-1).values - sim2.isel(t=-1).values)"
   ]
  },
  {
   "cell_type": "code",
   "execution_count": null,
   "id": "6ee17256",
   "metadata": {
    "scrolled": true
   },
   "outputs": [],
   "source": [
    "sim1.isel(t=7).values"
   ]
  },
  {
   "cell_type": "code",
   "execution_count": null,
   "id": "ee1a3dea",
   "metadata": {},
   "outputs": [],
   "source": [
    "len(ncfiles)"
   ]
  },
  {
   "cell_type": "code",
   "execution_count": null,
   "id": "75c9fda9",
   "metadata": {},
   "outputs": [],
   "source": [
    "sim['t'][-1]\n",
    "# every image ends with time 4100"
   ]
  },
  {
   "cell_type": "code",
   "execution_count": null,
   "id": "c7cec40a",
   "metadata": {},
   "outputs": [],
   "source": [
    "sim.isel(t=-1)"
   ]
  },
  {
   "cell_type": "markdown",
   "id": "252b83f6",
   "metadata": {},
   "source": [
    "### filter identical data"
   ]
  },
  {
   "cell_type": "code",
   "execution_count": 8,
   "id": "46c7fd45",
   "metadata": {},
   "outputs": [
    {
     "name": "stderr",
     "output_type": "stream",
     "text": [
      "Exception ignored in: <function CachingFileManager.__del__ at 0x7f87dc76e170>\n",
      "Traceback (most recent call last):\n",
      "  File \"/opt/anaconda/envs/pyvenv/lib/python3.7/site-packages/xarray/backends/file_manager.py\", line 244, in __del__\n",
      "    self.close(needs_lock=False)\n",
      "  File \"/opt/anaconda/envs/pyvenv/lib/python3.7/site-packages/xarray/backends/file_manager.py\", line 222, in close\n",
      "    file.close()\n",
      "KeyboardInterrupt: \n"
     ]
    },
    {
     "ename": "KeyboardInterrupt",
     "evalue": "",
     "output_type": "error",
     "traceback": [
      "\u001b[0;31m---------------------------------------------------------------------------\u001b[0m",
      "\u001b[0;31mKeyboardInterrupt\u001b[0m                         Traceback (most recent call last)",
      "\u001b[0;32m<ipython-input-8-c13de18617ff>\u001b[0m in \u001b[0;36m<module>\u001b[0;34m\u001b[0m\n\u001b[1;32m     10\u001b[0m         \u001b[0;32mif\u001b[0m \u001b[0mfilename2\u001b[0m \u001b[0;34m!=\u001b[0m \u001b[0mfilename1\u001b[0m\u001b[0;34m:\u001b[0m\u001b[0;34m\u001b[0m\u001b[0;34m\u001b[0m\u001b[0m\n\u001b[1;32m     11\u001b[0m             \u001b[0msim2\u001b[0m \u001b[0;34m=\u001b[0m \u001b[0mxr\u001b[0m\u001b[0;34m.\u001b[0m\u001b[0mopen_dataarray\u001b[0m\u001b[0;34m(\u001b[0m\u001b[0mpath\u001b[0m\u001b[0;34m+\u001b[0m\u001b[0mfilename2\u001b[0m\u001b[0;34m)\u001b[0m\u001b[0;34m\u001b[0m\u001b[0;34m\u001b[0m\u001b[0m\n\u001b[0;32m---> 12\u001b[0;31m         \u001b[0;32mif\u001b[0m \u001b[0mnp\u001b[0m\u001b[0;34m.\u001b[0m\u001b[0msum\u001b[0m\u001b[0;34m(\u001b[0m\u001b[0mnp\u001b[0m\u001b[0;34m.\u001b[0m\u001b[0mabs\u001b[0m\u001b[0;34m(\u001b[0m\u001b[0msim1\u001b[0m\u001b[0;34m.\u001b[0m\u001b[0misel\u001b[0m\u001b[0;34m(\u001b[0m\u001b[0mt\u001b[0m\u001b[0;34m=\u001b[0m\u001b[0;34m-\u001b[0m\u001b[0;36m1\u001b[0m\u001b[0;34m)\u001b[0m\u001b[0;34m.\u001b[0m\u001b[0mvalues\u001b[0m \u001b[0;34m-\u001b[0m \u001b[0msim2\u001b[0m\u001b[0;34m.\u001b[0m\u001b[0misel\u001b[0m\u001b[0;34m(\u001b[0m\u001b[0mt\u001b[0m\u001b[0;34m=\u001b[0m\u001b[0;34m-\u001b[0m\u001b[0;36m1\u001b[0m\u001b[0;34m)\u001b[0m\u001b[0;34m.\u001b[0m\u001b[0mvalues\u001b[0m\u001b[0;34m)\u001b[0m\u001b[0;34m)\u001b[0m \u001b[0;34m==\u001b[0m \u001b[0;36m0\u001b[0m\u001b[0;34m:\u001b[0m\u001b[0;34m\u001b[0m\u001b[0;34m\u001b[0m\u001b[0m\n\u001b[0m\u001b[1;32m     13\u001b[0m             \u001b[0mncfiles\u001b[0m\u001b[0;34m.\u001b[0m\u001b[0mremove\u001b[0m\u001b[0;34m(\u001b[0m\u001b[0mfilename\u001b[0m\u001b[0;34m)\u001b[0m\u001b[0;34m\u001b[0m\u001b[0;34m\u001b[0m\u001b[0m\n\u001b[1;32m     14\u001b[0m     \u001b[0mfilecount\u001b[0m \u001b[0;34m+=\u001b[0m \u001b[0;36m1\u001b[0m\u001b[0;34m\u001b[0m\u001b[0;34m\u001b[0m\u001b[0m\n",
      "\u001b[0;32m/opt/anaconda/envs/pyvenv/lib/python3.7/site-packages/xarray/core/dataarray.py\u001b[0m in \u001b[0;36mvalues\u001b[0;34m(self)\u001b[0m\n\u001b[1;32m    632\u001b[0m     \u001b[0;32mdef\u001b[0m \u001b[0mvalues\u001b[0m\u001b[0;34m(\u001b[0m\u001b[0mself\u001b[0m\u001b[0;34m)\u001b[0m \u001b[0;34m->\u001b[0m \u001b[0mnp\u001b[0m\u001b[0;34m.\u001b[0m\u001b[0mndarray\u001b[0m\u001b[0;34m:\u001b[0m\u001b[0;34m\u001b[0m\u001b[0;34m\u001b[0m\u001b[0m\n\u001b[1;32m    633\u001b[0m         \u001b[0;34m\"\"\"The array's data as a numpy.ndarray\"\"\"\u001b[0m\u001b[0;34m\u001b[0m\u001b[0;34m\u001b[0m\u001b[0m\n\u001b[0;32m--> 634\u001b[0;31m         \u001b[0;32mreturn\u001b[0m \u001b[0mself\u001b[0m\u001b[0;34m.\u001b[0m\u001b[0mvariable\u001b[0m\u001b[0;34m.\u001b[0m\u001b[0mvalues\u001b[0m\u001b[0;34m\u001b[0m\u001b[0;34m\u001b[0m\u001b[0m\n\u001b[0m\u001b[1;32m    635\u001b[0m \u001b[0;34m\u001b[0m\u001b[0m\n\u001b[1;32m    636\u001b[0m     \u001b[0;34m@\u001b[0m\u001b[0mvalues\u001b[0m\u001b[0;34m.\u001b[0m\u001b[0msetter\u001b[0m\u001b[0;34m\u001b[0m\u001b[0;34m\u001b[0m\u001b[0m\n",
      "\u001b[0;32m/opt/anaconda/envs/pyvenv/lib/python3.7/site-packages/xarray/core/variable.py\u001b[0m in \u001b[0;36mvalues\u001b[0;34m(self)\u001b[0m\n\u001b[1;32m    552\u001b[0m     \u001b[0;32mdef\u001b[0m \u001b[0mvalues\u001b[0m\u001b[0;34m(\u001b[0m\u001b[0mself\u001b[0m\u001b[0;34m)\u001b[0m\u001b[0;34m:\u001b[0m\u001b[0;34m\u001b[0m\u001b[0;34m\u001b[0m\u001b[0m\n\u001b[1;32m    553\u001b[0m         \u001b[0;34m\"\"\"The variable's data as a numpy.ndarray\"\"\"\u001b[0m\u001b[0;34m\u001b[0m\u001b[0;34m\u001b[0m\u001b[0m\n\u001b[0;32m--> 554\u001b[0;31m         \u001b[0;32mreturn\u001b[0m \u001b[0m_as_array_or_item\u001b[0m\u001b[0;34m(\u001b[0m\u001b[0mself\u001b[0m\u001b[0;34m.\u001b[0m\u001b[0m_data\u001b[0m\u001b[0;34m)\u001b[0m\u001b[0;34m\u001b[0m\u001b[0;34m\u001b[0m\u001b[0m\n\u001b[0m\u001b[1;32m    555\u001b[0m \u001b[0;34m\u001b[0m\u001b[0m\n\u001b[1;32m    556\u001b[0m     \u001b[0;34m@\u001b[0m\u001b[0mvalues\u001b[0m\u001b[0;34m.\u001b[0m\u001b[0msetter\u001b[0m\u001b[0;34m\u001b[0m\u001b[0;34m\u001b[0m\u001b[0m\n",
      "\u001b[0;32m/opt/anaconda/envs/pyvenv/lib/python3.7/site-packages/xarray/core/variable.py\u001b[0m in \u001b[0;36m_as_array_or_item\u001b[0;34m(data)\u001b[0m\n\u001b[1;32m    285\u001b[0m         \u001b[0mdata\u001b[0m \u001b[0;34m=\u001b[0m \u001b[0mdata\u001b[0m\u001b[0;34m.\u001b[0m\u001b[0mget\u001b[0m\u001b[0;34m(\u001b[0m\u001b[0;34m)\u001b[0m\u001b[0;34m\u001b[0m\u001b[0;34m\u001b[0m\u001b[0m\n\u001b[1;32m    286\u001b[0m     \u001b[0;32melse\u001b[0m\u001b[0;34m:\u001b[0m\u001b[0;34m\u001b[0m\u001b[0;34m\u001b[0m\u001b[0m\n\u001b[0;32m--> 287\u001b[0;31m         \u001b[0mdata\u001b[0m \u001b[0;34m=\u001b[0m \u001b[0mnp\u001b[0m\u001b[0;34m.\u001b[0m\u001b[0masarray\u001b[0m\u001b[0;34m(\u001b[0m\u001b[0mdata\u001b[0m\u001b[0;34m)\u001b[0m\u001b[0;34m\u001b[0m\u001b[0;34m\u001b[0m\u001b[0m\n\u001b[0m\u001b[1;32m    288\u001b[0m     \u001b[0;32mif\u001b[0m \u001b[0mdata\u001b[0m\u001b[0;34m.\u001b[0m\u001b[0mndim\u001b[0m \u001b[0;34m==\u001b[0m \u001b[0;36m0\u001b[0m\u001b[0;34m:\u001b[0m\u001b[0;34m\u001b[0m\u001b[0;34m\u001b[0m\u001b[0m\n\u001b[1;32m    289\u001b[0m         \u001b[0;32mif\u001b[0m \u001b[0mdata\u001b[0m\u001b[0;34m.\u001b[0m\u001b[0mdtype\u001b[0m\u001b[0;34m.\u001b[0m\u001b[0mkind\u001b[0m \u001b[0;34m==\u001b[0m \u001b[0;34m\"M\"\u001b[0m\u001b[0;34m:\u001b[0m\u001b[0;34m\u001b[0m\u001b[0;34m\u001b[0m\u001b[0m\n",
      "\u001b[0;32m/opt/anaconda/envs/pyvenv/lib/python3.7/site-packages/numpy/core/_asarray.py\u001b[0m in \u001b[0;36masarray\u001b[0;34m(a, dtype, order)\u001b[0m\n\u001b[1;32m     81\u001b[0m \u001b[0;34m\u001b[0m\u001b[0m\n\u001b[1;32m     82\u001b[0m     \"\"\"\n\u001b[0;32m---> 83\u001b[0;31m     \u001b[0;32mreturn\u001b[0m \u001b[0marray\u001b[0m\u001b[0;34m(\u001b[0m\u001b[0ma\u001b[0m\u001b[0;34m,\u001b[0m \u001b[0mdtype\u001b[0m\u001b[0;34m,\u001b[0m \u001b[0mcopy\u001b[0m\u001b[0;34m=\u001b[0m\u001b[0;32mFalse\u001b[0m\u001b[0;34m,\u001b[0m \u001b[0morder\u001b[0m\u001b[0;34m=\u001b[0m\u001b[0morder\u001b[0m\u001b[0;34m)\u001b[0m\u001b[0;34m\u001b[0m\u001b[0;34m\u001b[0m\u001b[0m\n\u001b[0m\u001b[1;32m     84\u001b[0m \u001b[0;34m\u001b[0m\u001b[0m\n\u001b[1;32m     85\u001b[0m \u001b[0;34m\u001b[0m\u001b[0m\n",
      "\u001b[0;32m/opt/anaconda/envs/pyvenv/lib/python3.7/site-packages/xarray/core/indexing.py\u001b[0m in \u001b[0;36m__array__\u001b[0;34m(self, dtype)\u001b[0m\n\u001b[1;32m    691\u001b[0m \u001b[0;34m\u001b[0m\u001b[0m\n\u001b[1;32m    692\u001b[0m     \u001b[0;32mdef\u001b[0m \u001b[0m__array__\u001b[0m\u001b[0;34m(\u001b[0m\u001b[0mself\u001b[0m\u001b[0;34m,\u001b[0m \u001b[0mdtype\u001b[0m\u001b[0;34m=\u001b[0m\u001b[0;32mNone\u001b[0m\u001b[0;34m)\u001b[0m\u001b[0;34m:\u001b[0m\u001b[0;34m\u001b[0m\u001b[0;34m\u001b[0m\u001b[0m\n\u001b[0;32m--> 693\u001b[0;31m         \u001b[0mself\u001b[0m\u001b[0;34m.\u001b[0m\u001b[0m_ensure_cached\u001b[0m\u001b[0;34m(\u001b[0m\u001b[0;34m)\u001b[0m\u001b[0;34m\u001b[0m\u001b[0;34m\u001b[0m\u001b[0m\n\u001b[0m\u001b[1;32m    694\u001b[0m         \u001b[0;32mreturn\u001b[0m \u001b[0mnp\u001b[0m\u001b[0;34m.\u001b[0m\u001b[0masarray\u001b[0m\u001b[0;34m(\u001b[0m\u001b[0mself\u001b[0m\u001b[0;34m.\u001b[0m\u001b[0marray\u001b[0m\u001b[0;34m,\u001b[0m \u001b[0mdtype\u001b[0m\u001b[0;34m=\u001b[0m\u001b[0mdtype\u001b[0m\u001b[0;34m)\u001b[0m\u001b[0;34m\u001b[0m\u001b[0;34m\u001b[0m\u001b[0m\n\u001b[1;32m    695\u001b[0m \u001b[0;34m\u001b[0m\u001b[0m\n",
      "\u001b[0;32m/opt/anaconda/envs/pyvenv/lib/python3.7/site-packages/xarray/core/indexing.py\u001b[0m in \u001b[0;36m_ensure_cached\u001b[0;34m(self)\u001b[0m\n\u001b[1;32m    688\u001b[0m     \u001b[0;32mdef\u001b[0m \u001b[0m_ensure_cached\u001b[0m\u001b[0;34m(\u001b[0m\u001b[0mself\u001b[0m\u001b[0;34m)\u001b[0m\u001b[0;34m:\u001b[0m\u001b[0;34m\u001b[0m\u001b[0;34m\u001b[0m\u001b[0m\n\u001b[1;32m    689\u001b[0m         \u001b[0;32mif\u001b[0m \u001b[0;32mnot\u001b[0m \u001b[0misinstance\u001b[0m\u001b[0;34m(\u001b[0m\u001b[0mself\u001b[0m\u001b[0;34m.\u001b[0m\u001b[0marray\u001b[0m\u001b[0;34m,\u001b[0m \u001b[0mNumpyIndexingAdapter\u001b[0m\u001b[0;34m)\u001b[0m\u001b[0;34m:\u001b[0m\u001b[0;34m\u001b[0m\u001b[0;34m\u001b[0m\u001b[0m\n\u001b[0;32m--> 690\u001b[0;31m             \u001b[0mself\u001b[0m\u001b[0;34m.\u001b[0m\u001b[0marray\u001b[0m \u001b[0;34m=\u001b[0m \u001b[0mNumpyIndexingAdapter\u001b[0m\u001b[0;34m(\u001b[0m\u001b[0mnp\u001b[0m\u001b[0;34m.\u001b[0m\u001b[0masarray\u001b[0m\u001b[0;34m(\u001b[0m\u001b[0mself\u001b[0m\u001b[0;34m.\u001b[0m\u001b[0marray\u001b[0m\u001b[0;34m)\u001b[0m\u001b[0;34m)\u001b[0m\u001b[0;34m\u001b[0m\u001b[0;34m\u001b[0m\u001b[0m\n\u001b[0m\u001b[1;32m    691\u001b[0m \u001b[0;34m\u001b[0m\u001b[0m\n\u001b[1;32m    692\u001b[0m     \u001b[0;32mdef\u001b[0m \u001b[0m__array__\u001b[0m\u001b[0;34m(\u001b[0m\u001b[0mself\u001b[0m\u001b[0;34m,\u001b[0m \u001b[0mdtype\u001b[0m\u001b[0;34m=\u001b[0m\u001b[0;32mNone\u001b[0m\u001b[0;34m)\u001b[0m\u001b[0;34m:\u001b[0m\u001b[0;34m\u001b[0m\u001b[0;34m\u001b[0m\u001b[0m\n",
      "\u001b[0;32m/opt/anaconda/envs/pyvenv/lib/python3.7/site-packages/numpy/core/_asarray.py\u001b[0m in \u001b[0;36masarray\u001b[0;34m(a, dtype, order)\u001b[0m\n\u001b[1;32m     81\u001b[0m \u001b[0;34m\u001b[0m\u001b[0m\n\u001b[1;32m     82\u001b[0m     \"\"\"\n\u001b[0;32m---> 83\u001b[0;31m     \u001b[0;32mreturn\u001b[0m \u001b[0marray\u001b[0m\u001b[0;34m(\u001b[0m\u001b[0ma\u001b[0m\u001b[0;34m,\u001b[0m \u001b[0mdtype\u001b[0m\u001b[0;34m,\u001b[0m \u001b[0mcopy\u001b[0m\u001b[0;34m=\u001b[0m\u001b[0;32mFalse\u001b[0m\u001b[0;34m,\u001b[0m \u001b[0morder\u001b[0m\u001b[0;34m=\u001b[0m\u001b[0morder\u001b[0m\u001b[0;34m)\u001b[0m\u001b[0;34m\u001b[0m\u001b[0;34m\u001b[0m\u001b[0m\n\u001b[0m\u001b[1;32m     84\u001b[0m \u001b[0;34m\u001b[0m\u001b[0m\n\u001b[1;32m     85\u001b[0m \u001b[0;34m\u001b[0m\u001b[0m\n",
      "\u001b[0;32m/opt/anaconda/envs/pyvenv/lib/python3.7/site-packages/xarray/core/indexing.py\u001b[0m in \u001b[0;36m__array__\u001b[0;34m(self, dtype)\u001b[0m\n\u001b[1;32m    661\u001b[0m \u001b[0;34m\u001b[0m\u001b[0m\n\u001b[1;32m    662\u001b[0m     \u001b[0;32mdef\u001b[0m \u001b[0m__array__\u001b[0m\u001b[0;34m(\u001b[0m\u001b[0mself\u001b[0m\u001b[0;34m,\u001b[0m \u001b[0mdtype\u001b[0m\u001b[0;34m=\u001b[0m\u001b[0;32mNone\u001b[0m\u001b[0;34m)\u001b[0m\u001b[0;34m:\u001b[0m\u001b[0;34m\u001b[0m\u001b[0;34m\u001b[0m\u001b[0m\n\u001b[0;32m--> 663\u001b[0;31m         \u001b[0;32mreturn\u001b[0m \u001b[0mnp\u001b[0m\u001b[0;34m.\u001b[0m\u001b[0masarray\u001b[0m\u001b[0;34m(\u001b[0m\u001b[0mself\u001b[0m\u001b[0;34m.\u001b[0m\u001b[0marray\u001b[0m\u001b[0;34m,\u001b[0m \u001b[0mdtype\u001b[0m\u001b[0;34m=\u001b[0m\u001b[0mdtype\u001b[0m\u001b[0;34m)\u001b[0m\u001b[0;34m\u001b[0m\u001b[0;34m\u001b[0m\u001b[0m\n\u001b[0m\u001b[1;32m    664\u001b[0m \u001b[0;34m\u001b[0m\u001b[0m\n\u001b[1;32m    665\u001b[0m     \u001b[0;32mdef\u001b[0m \u001b[0m__getitem__\u001b[0m\u001b[0;34m(\u001b[0m\u001b[0mself\u001b[0m\u001b[0;34m,\u001b[0m \u001b[0mkey\u001b[0m\u001b[0;34m)\u001b[0m\u001b[0;34m:\u001b[0m\u001b[0;34m\u001b[0m\u001b[0;34m\u001b[0m\u001b[0m\n",
      "\u001b[0;32m/opt/anaconda/envs/pyvenv/lib/python3.7/site-packages/numpy/core/_asarray.py\u001b[0m in \u001b[0;36masarray\u001b[0;34m(a, dtype, order)\u001b[0m\n\u001b[1;32m     81\u001b[0m \u001b[0;34m\u001b[0m\u001b[0m\n\u001b[1;32m     82\u001b[0m     \"\"\"\n\u001b[0;32m---> 83\u001b[0;31m     \u001b[0;32mreturn\u001b[0m \u001b[0marray\u001b[0m\u001b[0;34m(\u001b[0m\u001b[0ma\u001b[0m\u001b[0;34m,\u001b[0m \u001b[0mdtype\u001b[0m\u001b[0;34m,\u001b[0m \u001b[0mcopy\u001b[0m\u001b[0;34m=\u001b[0m\u001b[0;32mFalse\u001b[0m\u001b[0;34m,\u001b[0m \u001b[0morder\u001b[0m\u001b[0;34m=\u001b[0m\u001b[0morder\u001b[0m\u001b[0;34m)\u001b[0m\u001b[0;34m\u001b[0m\u001b[0;34m\u001b[0m\u001b[0m\n\u001b[0m\u001b[1;32m     84\u001b[0m \u001b[0;34m\u001b[0m\u001b[0m\n\u001b[1;32m     85\u001b[0m \u001b[0;34m\u001b[0m\u001b[0m\n",
      "\u001b[0;32m/opt/anaconda/envs/pyvenv/lib/python3.7/site-packages/xarray/core/indexing.py\u001b[0m in \u001b[0;36m__array__\u001b[0;34m(self, dtype)\u001b[0m\n\u001b[1;32m    566\u001b[0m     \u001b[0;32mdef\u001b[0m \u001b[0m__array__\u001b[0m\u001b[0;34m(\u001b[0m\u001b[0mself\u001b[0m\u001b[0;34m,\u001b[0m \u001b[0mdtype\u001b[0m\u001b[0;34m=\u001b[0m\u001b[0;32mNone\u001b[0m\u001b[0;34m)\u001b[0m\u001b[0;34m:\u001b[0m\u001b[0;34m\u001b[0m\u001b[0;34m\u001b[0m\u001b[0m\n\u001b[1;32m    567\u001b[0m         \u001b[0marray\u001b[0m \u001b[0;34m=\u001b[0m \u001b[0mas_indexable\u001b[0m\u001b[0;34m(\u001b[0m\u001b[0mself\u001b[0m\u001b[0;34m.\u001b[0m\u001b[0marray\u001b[0m\u001b[0;34m)\u001b[0m\u001b[0;34m\u001b[0m\u001b[0;34m\u001b[0m\u001b[0m\n\u001b[0;32m--> 568\u001b[0;31m         \u001b[0;32mreturn\u001b[0m \u001b[0mnp\u001b[0m\u001b[0;34m.\u001b[0m\u001b[0masarray\u001b[0m\u001b[0;34m(\u001b[0m\u001b[0marray\u001b[0m\u001b[0;34m[\u001b[0m\u001b[0mself\u001b[0m\u001b[0;34m.\u001b[0m\u001b[0mkey\u001b[0m\u001b[0;34m]\u001b[0m\u001b[0;34m,\u001b[0m \u001b[0mdtype\u001b[0m\u001b[0;34m=\u001b[0m\u001b[0;32mNone\u001b[0m\u001b[0;34m)\u001b[0m\u001b[0;34m\u001b[0m\u001b[0;34m\u001b[0m\u001b[0m\n\u001b[0m\u001b[1;32m    569\u001b[0m \u001b[0;34m\u001b[0m\u001b[0m\n\u001b[1;32m    570\u001b[0m     \u001b[0;32mdef\u001b[0m \u001b[0mtranspose\u001b[0m\u001b[0;34m(\u001b[0m\u001b[0mself\u001b[0m\u001b[0;34m,\u001b[0m \u001b[0morder\u001b[0m\u001b[0;34m)\u001b[0m\u001b[0;34m:\u001b[0m\u001b[0;34m\u001b[0m\u001b[0;34m\u001b[0m\u001b[0m\n",
      "\u001b[0;32m/opt/anaconda/envs/pyvenv/lib/python3.7/site-packages/xarray/backends/netCDF4_.py\u001b[0m in \u001b[0;36m__getitem__\u001b[0;34m(self, key)\u001b[0m\n\u001b[1;32m     84\u001b[0m     \u001b[0;32mdef\u001b[0m \u001b[0m__getitem__\u001b[0m\u001b[0;34m(\u001b[0m\u001b[0mself\u001b[0m\u001b[0;34m,\u001b[0m \u001b[0mkey\u001b[0m\u001b[0;34m)\u001b[0m\u001b[0;34m:\u001b[0m\u001b[0;34m\u001b[0m\u001b[0;34m\u001b[0m\u001b[0m\n\u001b[1;32m     85\u001b[0m         return indexing.explicit_indexing_adapter(\n\u001b[0;32m---> 86\u001b[0;31m             \u001b[0mkey\u001b[0m\u001b[0;34m,\u001b[0m \u001b[0mself\u001b[0m\u001b[0;34m.\u001b[0m\u001b[0mshape\u001b[0m\u001b[0;34m,\u001b[0m \u001b[0mindexing\u001b[0m\u001b[0;34m.\u001b[0m\u001b[0mIndexingSupport\u001b[0m\u001b[0;34m.\u001b[0m\u001b[0mOUTER\u001b[0m\u001b[0;34m,\u001b[0m \u001b[0mself\u001b[0m\u001b[0;34m.\u001b[0m\u001b[0m_getitem\u001b[0m\u001b[0;34m\u001b[0m\u001b[0;34m\u001b[0m\u001b[0m\n\u001b[0m\u001b[1;32m     87\u001b[0m         )\n\u001b[1;32m     88\u001b[0m \u001b[0;34m\u001b[0m\u001b[0m\n",
      "\u001b[0;32m/opt/anaconda/envs/pyvenv/lib/python3.7/site-packages/xarray/core/indexing.py\u001b[0m in \u001b[0;36mexplicit_indexing_adapter\u001b[0;34m(key, shape, indexing_support, raw_indexing_method)\u001b[0m\n\u001b[1;32m    851\u001b[0m     \"\"\"\n\u001b[1;32m    852\u001b[0m     \u001b[0mraw_key\u001b[0m\u001b[0;34m,\u001b[0m \u001b[0mnumpy_indices\u001b[0m \u001b[0;34m=\u001b[0m \u001b[0mdecompose_indexer\u001b[0m\u001b[0;34m(\u001b[0m\u001b[0mkey\u001b[0m\u001b[0;34m,\u001b[0m \u001b[0mshape\u001b[0m\u001b[0;34m,\u001b[0m \u001b[0mindexing_support\u001b[0m\u001b[0;34m)\u001b[0m\u001b[0;34m\u001b[0m\u001b[0;34m\u001b[0m\u001b[0m\n\u001b[0;32m--> 853\u001b[0;31m     \u001b[0mresult\u001b[0m \u001b[0;34m=\u001b[0m \u001b[0mraw_indexing_method\u001b[0m\u001b[0;34m(\u001b[0m\u001b[0mraw_key\u001b[0m\u001b[0;34m.\u001b[0m\u001b[0mtuple\u001b[0m\u001b[0;34m)\u001b[0m\u001b[0;34m\u001b[0m\u001b[0;34m\u001b[0m\u001b[0m\n\u001b[0m\u001b[1;32m    854\u001b[0m     \u001b[0;32mif\u001b[0m \u001b[0mnumpy_indices\u001b[0m\u001b[0;34m.\u001b[0m\u001b[0mtuple\u001b[0m\u001b[0;34m:\u001b[0m\u001b[0;34m\u001b[0m\u001b[0;34m\u001b[0m\u001b[0m\n\u001b[1;32m    855\u001b[0m         \u001b[0;31m# index the loaded np.ndarray\u001b[0m\u001b[0;34m\u001b[0m\u001b[0;34m\u001b[0m\u001b[0;34m\u001b[0m\u001b[0m\n",
      "\u001b[0;32m/opt/anaconda/envs/pyvenv/lib/python3.7/site-packages/xarray/backends/netCDF4_.py\u001b[0m in \u001b[0;36m_getitem\u001b[0;34m(self, key)\u001b[0m\n\u001b[1;32m     96\u001b[0m             \u001b[0;32mwith\u001b[0m \u001b[0mself\u001b[0m\u001b[0;34m.\u001b[0m\u001b[0mdatastore\u001b[0m\u001b[0;34m.\u001b[0m\u001b[0mlock\u001b[0m\u001b[0;34m:\u001b[0m\u001b[0;34m\u001b[0m\u001b[0;34m\u001b[0m\u001b[0m\n\u001b[1;32m     97\u001b[0m                 \u001b[0moriginal_array\u001b[0m \u001b[0;34m=\u001b[0m \u001b[0mself\u001b[0m\u001b[0;34m.\u001b[0m\u001b[0mget_array\u001b[0m\u001b[0;34m(\u001b[0m\u001b[0mneeds_lock\u001b[0m\u001b[0;34m=\u001b[0m\u001b[0;32mFalse\u001b[0m\u001b[0;34m)\u001b[0m\u001b[0;34m\u001b[0m\u001b[0;34m\u001b[0m\u001b[0m\n\u001b[0;32m---> 98\u001b[0;31m                 \u001b[0marray\u001b[0m \u001b[0;34m=\u001b[0m \u001b[0mgetitem\u001b[0m\u001b[0;34m(\u001b[0m\u001b[0moriginal_array\u001b[0m\u001b[0;34m,\u001b[0m \u001b[0mkey\u001b[0m\u001b[0;34m)\u001b[0m\u001b[0;34m\u001b[0m\u001b[0;34m\u001b[0m\u001b[0m\n\u001b[0m\u001b[1;32m     99\u001b[0m         \u001b[0;32mexcept\u001b[0m \u001b[0mIndexError\u001b[0m\u001b[0;34m:\u001b[0m\u001b[0;34m\u001b[0m\u001b[0;34m\u001b[0m\u001b[0m\n\u001b[1;32m    100\u001b[0m             \u001b[0;31m# Catch IndexError in netCDF4 and return a more informative\u001b[0m\u001b[0;34m\u001b[0m\u001b[0;34m\u001b[0m\u001b[0;34m\u001b[0m\u001b[0m\n",
      "\u001b[0;31mKeyboardInterrupt\u001b[0m: "
     ]
    }
   ],
   "source": [
    "filecount = 1\n",
    "while filecount < len(ncfiles):\n",
    "    ncfiles_cp = ncfiles.copy()\n",
    "    filename1 = ncfiles[filecount]\n",
    "    sim1 = xr.open_dataarray(path+filename1)\n",
    "    for filename2 in ncfiles_cp:\n",
    "        if filename2 != filename1:\n",
    "            sim2 = xr.open_dataarray(path+filename2)\n",
    "        if np.sum(np.abs(sim1.isel(t=-1).values - sim2.isel(t=-1).values)) == 0:\n",
    "            ncfiles.remove(filename)\n",
    "    filecount += 1\n",
    "print(len(ncfiles))\n",
    "    "
   ]
  },
  {
   "cell_type": "markdown",
   "id": "bca62abd",
   "metadata": {},
   "source": [
    "### utils"
   ]
  },
  {
   "cell_type": "code",
   "execution_count": null,
   "id": "62d110cb",
   "metadata": {},
   "outputs": [],
   "source": [
    "def get_rho(filename,Nx,Ny,Nt):\n",
    "    rho=np.zeros((Nx,Ny,Nt)) # Initializing the density array\n",
    "    sim = xr.open_dataarray(filename)  # Reading .nc xarray file \n",
    "    \n",
    "    for i in range(Nt):\n",
    "        a=sim.isel(t=i);\n",
    "        a=a[:350,:350] # Cropping the image to 350x350\n",
    "        ar=np.concatenate((np.flipud(a),a), axis=0) # Flipping array to get the right part\n",
    "        al=np.concatenate((np.flipud(np.fliplr(a)),np.fliplr(a)), axis=0) # Flipping array to get the left part\n",
    "        # Combining to form a full circle from a quarter image and resizing the 700x700 to 200x200 image\n",
    "        rho[:,:,i]=resize(np.concatenate((al,ar), axis=1), (Nx, Ny), anti_aliasing=True)\n",
    "\n",
    "    return torch.tensor(rho,dtype=torch.float)\n"
   ]
  }
 ],
 "metadata": {
  "kernelspec": {
   "display_name": "Python 3",
   "language": "python",
   "name": "python3"
  },
  "language_info": {
   "codemirror_mode": {
    "name": "ipython",
    "version": 3
   },
   "file_extension": ".py",
   "mimetype": "text/x-python",
   "name": "python",
   "nbconvert_exporter": "python",
   "pygments_lexer": "ipython3",
   "version": "3.7.5"
  }
 },
 "nbformat": 4,
 "nbformat_minor": 5
}
