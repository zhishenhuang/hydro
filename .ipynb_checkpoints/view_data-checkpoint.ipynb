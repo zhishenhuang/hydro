{
 "cells": [
  {
   "cell_type": "code",
   "execution_count": null,
   "id": "191d5cdf",
   "metadata": {},
   "outputs": [],
   "source": [
    "import matplotlib.pyplot as plt\n",
    "%matplotlib inline"
   ]
  },
  {
   "cell_type": "code",
   "execution_count": null,
   "id": "fc829bba",
   "metadata": {
    "scrolled": true
   },
   "outputs": [],
   "source": [
    "%run wgan_train_builder.py"
   ]
  },
  {
   "cell_type": "code",
   "execution_count": null,
   "id": "4e56efcd",
   "metadata": {},
   "outputs": [],
   "source": [
    "import xarray as xr\n",
    "import numpy as np\n",
    "# import scipy as sp\n",
    "import matplotlib.pyplot as plt\n",
    "from mpl_toolkits.axes_grid1 import make_axes_locatable\n",
    "%matplotlib inline\n",
    "import torch\n",
    "# import torch.nn as nn\n",
    "# import torch.optim as optim\n",
    "import os,sys\n",
    "import random\n",
    "# from skimage.transform import resize\n",
    "# import models\n",
    "sys.path.insert(0,'/home/huangz78/hydro/unet3d/')\n",
    "import torch.fft as F\n",
    "from models.unet3d_model import UNet3D, ResidualUNet3D \n",
    "from models.dnet import weights_init, Discriminator\n",
    "from importlib import reload\n",
    "import utils\n",
    "from utils import *\n",
    "import copy\n",
    "import abel\n",
    "manualSeed = 999\n",
    "#manualSeed = random.randint(1, 10000) # use if you want new results\n",
    "print(\"Random Seed: \", manualSeed)\n",
    "random.seed(manualSeed)\n",
    "torch.manual_seed(manualSeed)"
   ]
  },
  {
   "cell_type": "code",
   "execution_count": null,
   "id": "184997ff",
   "metadata": {},
   "outputs": [],
   "source": [
    "testdata_path = '/mnt/DataB/data_xfer/perturbed_densities_2D_RMI-002.npy'\n",
    "data = np.load(testdata_path)"
   ]
  },
  {
   "cell_type": "code",
   "execution_count": null,
   "id": "aea0262d",
   "metadata": {},
   "outputs": [],
   "source": [
    "print(data.shape) # scatter_level*case_num*time_pt\n",
    "heg = data.shape[3]\n",
    "wid = data.shape[4]\n",
    "print(f'heg={heg},wid={wid}')\n",
    "# find non-trivial data\n",
    "usefullist = []\n",
    "for case_num in range(5):\n",
    "    for time_pt in range(8):\n",
    "        if np.sum(np.abs(data[0,case_num,time_pt,:,:]))!= 0:\n",
    "#             print(case_num,time_pt)\n",
    "            usefullist.append([case_num,time_pt])\n",
    "print(f'len of useful combinations: {len(usefullist)}')"
   ]
  },
  {
   "cell_type": "markdown",
   "id": "26ab4a70",
   "metadata": {},
   "source": [
    "## data extraction"
   ]
  },
  {
   "cell_type": "code",
   "execution_count": null,
   "id": "9d45f68c",
   "metadata": {},
   "outputs": [],
   "source": [
    "np.min(img_gt)"
   ]
  },
  {
   "cell_type": "code",
   "execution_count": null,
   "id": "21e3bbc5",
   "metadata": {},
   "outputs": [],
   "source": [
    "ind = 0\n",
    "case_num = usefullist[ind][0]\n",
    "time_pt  = usefullist[ind][1]\n",
    "img_gt = data[0,case_num,time_pt,:,:]\n",
    "print(f'min val in frame: {np.min(img_gt[img_gt>0])}')\n",
    "img_ns = data[4,case_num,time_pt,:,:]\n",
    "noise  = img_ns - img_gt\n",
    "print( np.max(np.divide(np.abs(noise[img_gt>eps]),img_gt[img_gt>eps])) )\n",
    "scatter_data_orig[ind,:,:] = noise\n",
    "# scatter_data[ind,:,:] = resize(noise,(640,640),anti_aliasing=True,order=5)\n",
    "\n",
    "line_index = 2528//2\n",
    "plt_range = 3000\n",
    "\n",
    "plt.figure(figsize=(10,10))\n",
    "plt.plot(img_gt[line_index,:plt_range],    label='ground truth')\n",
    "plt.plot(img_ns[line_index,:plt_range],    label='noisy data')\n",
    "plt.legend(loc='best')\n",
    "plt.show()"
   ]
  },
  {
   "cell_type": "code",
   "execution_count": null,
   "id": "69b13809",
   "metadata": {},
   "outputs": [],
   "source": [
    "plt.figure(figsize=(10,10))\n",
    "eps = 0\n",
    "plt_range = 1150\n",
    "plt.plot(np.divide(np.abs(noise),img_gt+eps)[line_index,:plt_range],    label='relative error')\n",
    "plt.yscale('log')\n",
    "plt.legend(loc='best')\n",
    "plt.show()"
   ]
  },
  {
   "cell_type": "code",
   "execution_count": null,
   "id": "ee1e6e68",
   "metadata": {},
   "outputs": [],
   "source": [
    "scatter_level = 4\n",
    "scatter_data  = np.zeros((len(usefullist),640,640))\n",
    "scatter_data_orig = np.zeros((len(usefullist),heg,wid))\n",
    "eps = 1e0\n",
    "for ind in range(len(usefullist)):\n",
    "    case_num = usefullist[ind][0]\n",
    "    time_pt  = usefullist[ind][1]\n",
    "    img_gt = data[0,case_num,time_pt,:,:]\n",
    "    print(f'min val in frame: {np.min(img_gt[img_gt>0])}')\n",
    "    img_ns = data[4,case_num,time_pt,:,:]\n",
    "    noise  = img_ns - iamg_gt\n",
    "    print( np.max(np.divide(np.abs(noise[img_gt>eps]),img_gt[img_gt>eps])) )\n",
    "    scatter_data_orig[ind,:,:] = noise\n",
    "    scatter_data[ind,:,:] = resize(noise,(640,640),anti_aliasing=True,order=5)"
   ]
  },
  {
   "cell_type": "code",
   "execution_count": null,
   "id": "4a6da5b7",
   "metadata": {
    "scrolled": false
   },
   "outputs": [],
   "source": [
    "# clampval = np.inf\n",
    "clampval = 12\n",
    "for ind in range(20):\n",
    "    plt.figure()\n",
    "    img = torch.tensor( scatter_data[ind,:,:] ).clamp(min=-clampval,max=clampval)\n",
    "    plt.imshow(img,origin='lower')\n",
    "#     print(f'max value: {np.max(np.abs(scatter_data[ind,:,:]))}')\n",
    "#     print(f'max value: {np.max(np.abs(np.clip(img,a_min=-clampval,a_max=clampval) ))}')\n",
    "    print(f'max value: {img.abs().max()}')\n",
    "    plt.colorbar()\n",
    "    plt.show()"
   ]
  },
  {
   "cell_type": "code",
   "execution_count": null,
   "id": "6c8cd2c4",
   "metadata": {},
   "outputs": [],
   "source": [
    "# sample from one of 20 cases\n",
    "# add the selected noise to the ground truth ---> noisy dynamics\n",
    "# normalization of data ranges (both noise and ground truth)\n",
    "# random constant between (0,1), multiplied to the noise"
   ]
  },
  {
   "cell_type": "code",
   "execution_count": null,
   "id": "a385120f",
   "metadata": {},
   "outputs": [],
   "source": [
    "# np.savez('/mnt/DataB/hydro_simulations/noise_source.npz',data_fullsize=scatter_data_orig,data=scatter_data)"
   ]
  },
  {
   "cell_type": "code",
   "execution_count": null,
   "id": "8756dd11",
   "metadata": {},
   "outputs": [],
   "source": [
    "for ind in range(len(scatter_data)):\n",
    "    print(f'max val of case {ind:2d}, downsampled: {np.abs(scatter_data[ind,:,:]).max()}')\n",
    "    print(f'max val of case {ind:2d}, original.  : {np.abs(scatter_data_orig[ind,:,:]).max()}')\n",
    "# for ind in range(len(scatter_data)):\n",
    "#     plt.figure()\n",
    "# #     plt.plot(scatter_data[ind,320,:])\n",
    "#     plt.plot(scatter_data[ind,:,320])\n",
    "# #     plt.plot(scatter_data_orig[ind,heg//2,:])\n",
    "# #     plt.plot(scatter_data_orig[ind,:,wid//2])\n",
    "#     plt.title(f'case {ind}')\n",
    "#     plt.show()"
   ]
  },
  {
   "cell_type": "code",
   "execution_count": null,
   "id": "3d3c713b",
   "metadata": {
    "scrolled": false
   },
   "outputs": [],
   "source": [
    "plt.figure()\n",
    "plt.imshow(scatter_data[0,:,:],origin='lower')\n",
    "plt.colorbar()\n",
    "plt.show()"
   ]
  },
  {
   "cell_type": "code",
   "execution_count": null,
   "id": "a61dfb4f",
   "metadata": {},
   "outputs": [],
   "source": [
    "plt.figure()\n",
    "plt.imshow(scatter_data_orig[0,:,:],origin='lower')\n",
    "plt.colorbar()\n",
    "plt.show()"
   ]
  },
  {
   "cell_type": "markdown",
   "id": "f3087a34",
   "metadata": {},
   "source": [
    "## data view and comparison"
   ]
  },
  {
   "cell_type": "code",
   "execution_count": null,
   "id": "8789c785",
   "metadata": {
    "scrolled": true
   },
   "outputs": [],
   "source": [
    "for ind in range(len(usefullist)):\n",
    "    case_num = usefullist[ind][0]\n",
    "    time_pt  = usefullist[ind][1]\n",
    "    img_gt = data[0,case_num,time_pt,:,:]\n",
    "    plt.figure()\n",
    "    plt.imshow(img_gt,vmin=0,vmax=30)\n",
    "#     plt.imshow(img_gt/np.max(np.abs(img_gt)),vmin=0,vmax=1)\n",
    "    plt.title(f'gt. case {case_num}, time {time_pt}')\n",
    "    plt.colorbar(fraction=0.046, pad=0.04)\n",
    "    plt.show()"
   ]
  },
  {
   "cell_type": "code",
   "execution_count": null,
   "id": "13a59097",
   "metadata": {
    "scrolled": false
   },
   "outputs": [],
   "source": [
    "ind = 20\n",
    "case_num = usefullist[ind][0]\n",
    "time_pt  = usefullist[ind][1]\n",
    "img_gt = data[0,case_num,time_pt,:,:]\n",
    "img_ns = data[4,case_num,time_pt,:,:]\n",
    "noise  = img_ns - img_gt\n",
    "\n",
    "fig, axs = plt.subplots(1, 3,figsize=(18,18))\n",
    "hd1 = axs[0].imshow(img_gt, vmin=0, vmax=35)\n",
    "axs[0].set_title('gt')\n",
    "fig.colorbar(hd1, ax=axs[0],fraction=0.046, pad=0.04)\n",
    "\n",
    "hd2 = axs[1].imshow(img_ns, vmin=0, vmax=35)\n",
    "axs[1].set_title('noisy')\n",
    "fig.colorbar(hd2, ax=axs[1],fraction=0.046, pad=0.04)\n",
    "\n",
    "hd3 = axs[2].imshow(noise)\n",
    "axs[2].set_title('noise')\n",
    "fig.colorbar(hd3, ax=axs[2],fraction=0.046, pad=0.04)\n",
    "plt.show()\n",
    "\n",
    "# anti_aliasing = True\n",
    "# img_gt_rs = resize(img_gt,(640,640),anti_aliasing=anti_aliasing)\n",
    "# img_ns_rs = resize(img_ns,(640,640),anti_aliasing=anti_aliasing)\n",
    "# noise_rs  = resize(noise, (640,640),anti_aliasing=anti_aliasing)\n",
    "\n",
    "# fig, axs = plt.subplots(1, 3,figsize=(18,18))\n",
    "# hd1 = axs[0].imshow(img_gt_rs, vmin=0, vmax=35)\n",
    "# axs[0].set_title('gt')\n",
    "# fig.colorbar(hd1, ax=axs[0],fraction=0.046, pad=0.04)\n",
    "\n",
    "# hd2 = axs[1].imshow(img_ns_rs, vmin=0, vmax=35)\n",
    "# axs[1].set_title('noisy')\n",
    "# fig.colorbar(hd2, ax=axs[1],fraction=0.046, pad=0.04)\n",
    "\n",
    "# hd3 = axs[2].imshow(noise_rs)\n",
    "# axs[2].set_title('noise')\n",
    "# fig.colorbar(hd3, ax=axs[2],fraction=0.046, pad=0.04)\n",
    "# plt.show()\n",
    "\n",
    "method = 'hansenlaw'\n",
    "img_gt_abel = abel.Transform(img_gt, method=method, direction='forward').transform\n",
    "img_ns_abel = abel.Transform(img_ns, method=method, direction='forward').transform\n",
    "noise_abel  = abel.Transform(noise,  method=method, direction='forward').transform\n",
    "\n",
    "# line_num = 320\n",
    "# plt.figure(figsize=(7,7))\n",
    "# plt.plot(img_ns_abel[line_num,:] - img_gt_abel[line_num,:])\n",
    "# plt.plot(np.zeros((img_gt_abel.shape[0])),'r--')\n",
    "# plt.title('horizontal line profile difference in abel domain')\n",
    "# plt.show()\n",
    "\n",
    "# plt.figure(figsize=(7,7))\n",
    "# plt.plot(img_ns_abel[:,line_num] - img_gt_abel[:,line_num])\n",
    "# plt.plot(np.zeros((img_gt_abel.shape[0])),'r--')\n",
    "# plt.title('vertical line profile difference in abel domain')\n",
    "# plt.show()\n",
    "\n",
    "# plt.figure(figsize=(7,7))\n",
    "# plt.imshow(img_ns_abel - img_gt_abel)\n",
    "# plt.title('noise in abel domain')\n",
    "# plt.colorbar()\n",
    "# plt.show()\n",
    "line_num = noise.shape[0]//2\n",
    "plt.figure(figsize=(7,7))\n",
    "plt.plot(noise[:,line_num])\n",
    "plt.plot(np.zeros((noise.shape[0])),'r--')\n",
    "plt.title('horizontal line profile, original noise, in image domain')\n",
    "plt.show()\n",
    "\n",
    "plt.figure(figsize=(7,7))\n",
    "plt.plot(noise[:,line_num])\n",
    "plt.plot(np.zeros((noise.shape[0])),'r--')\n",
    "plt.title('vertical line profile, original noise, in image domain')\n",
    "plt.show()\n",
    "\n",
    "plt.figure(figsize=(7,7))\n",
    "plt.plot(noise_abel[:,line_num])\n",
    "plt.plot(np.zeros((noise_abel.shape[0])),'r--')\n",
    "plt.title('horizontal line profile, original noise, in Abel domain')\n",
    "plt.show()\n",
    "\n",
    "plt.figure(figsize=(7,7))\n",
    "plt.plot(noise_abel[:,line_num])\n",
    "plt.plot(np.zeros((noise_abel.shape[0])),'r--')\n",
    "plt.title('vertical line profile, original noise, in Abel domain')\n",
    "plt.show()\n",
    "\n",
    "# line_num = 320\n",
    "# plt.figure(figsize=(7,7))\n",
    "# plt.plot(noise_rs[:,line_num])\n",
    "# plt.plot(np.zeros((noise_rs.shape[0])),'r--')\n",
    "# plt.title('horizontal line profile, directly resized noise, in image domain')\n",
    "# plt.show()\n",
    "\n",
    "# plt.figure(figsize=(7,7))\n",
    "# plt.plot(noise_rs[:,line_num])\n",
    "# plt.plot(np.zeros((noise_rs.shape[0])),'r--')\n",
    "# plt.title('vertical line profile, directly resized noise, in image domain')\n",
    "# plt.show()"
   ]
  },
  {
   "cell_type": "code",
   "execution_count": null,
   "id": "cdc91abf",
   "metadata": {},
   "outputs": [],
   "source": [
    "line_num = noise.shape[0]//2\n",
    "plt.figure(figsize=(7,7))\n",
    "plt.plot(img_gt_abel[:,line_num])\n",
    "plt.plot(np.zeros((img_gt_abel.shape[0])),'r--')\n",
    "plt.title('horizontal line profile, original image, in abel domain')\n",
    "plt.show()\n",
    "\n",
    "plt.figure(figsize=(7,7))\n",
    "plt.plot(img_gt_abel[:,line_num])\n",
    "plt.plot(np.zeros((img_gt_abel.shape[0])),'r--')\n",
    "plt.title('vertical line profile, original image, in abel domain')\n",
    "plt.show()"
   ]
  },
  {
   "cell_type": "markdown",
   "id": "fb800ac2",
   "metadata": {},
   "source": [
    "## data view"
   ]
  },
  {
   "cell_type": "code",
   "execution_count": null,
   "id": "23c5b193",
   "metadata": {},
   "outputs": [],
   "source": [
    "scatter_level = 4\n",
    "case_num      = 0\n",
    "time_pt       = 0\n",
    "figsize       = (8,8)\n",
    "\n",
    "plt.figure(figsize=figsize)\n",
    "plt.title(f'clean den, case {case_num}, time {time_pt}')\n",
    "plt.imshow(data[0,case_num,time_pt,:,:],origin='lower')\n",
    "plt.colorbar()\n",
    "plt.show()\n",
    "\n",
    "plt.figure(figsize=figsize)\n",
    "plt.title(f'noisy - clean, scatter {scatter_level}, case {case_num}, time {time_pt}')\n",
    "plt.imshow(np.log10(np.abs(data[scatter_level,case_num,time_pt,:,:]-data[0,case_num,time_pt,:,:])),origin='lower')\n",
    "plt.colorbar()\n",
    "plt.show()"
   ]
  },
  {
   "cell_type": "code",
   "execution_count": null,
   "id": "6ea839fc",
   "metadata": {},
   "outputs": [],
   "source": [
    "from IPython.display import clear_output\n",
    "dep = 8\n",
    "subgroup = 0\n",
    "plt.figure()\n",
    "for i in range(dep):\n",
    "    plt.imshow(data[0,0,i,:,:],origin='lower')\n",
    "    plt.colorbar()\n",
    "    plt.clim(np.min(data[0,0,:,:,:]), np.max(data[0,0,:,:,:]))\n",
    "#     plt.title('Frame %d' % (i+1))\n",
    "    plt.title('Frame %d' % (i+1+dep*subgroup))\n",
    "#     plt.savefig(f'/home/huangz78/checkpoints/frame_{i}.jpg',bbox_inches='tight', transparent=True,\n",
    "#                pad_inches=.2, dpi=300)\n",
    "    plt.show()\n",
    "    clear_output(wait=True)"
   ]
  },
  {
   "cell_type": "markdown",
   "id": "36f6e983",
   "metadata": {},
   "source": [
    "## with hydro data"
   ]
  },
  {
   "cell_type": "code",
   "execution_count": null,
   "id": "660c3b37",
   "metadata": {},
   "outputs": [],
   "source": [
    "datapath = '/mnt/DataB/hydro_simulations/data/'\n",
    "\n",
    "ncfiles = list([])\n",
    "for file in os.listdir(datapath):\n",
    "    if file.endswith(\".nc\"):\n",
    "        ncfiles.append(file)\n",
    "print('Total amount of files:', len(ncfiles))\n",
    "img_size = 320\n",
    "dep = 8\n",
    "\n",
    "batchsize = 2\n",
    "fileexp_inds = [7736+i for i in range(batchsize)]\n",
    "\n",
    "dyn   = torch.zeros((batchsize,1,dep,img_size,img_size)) # load one sample, show it\n",
    "noise = torch.zeros((batchsize,1,dep,img_size,img_size)) # make a noise sample, add it to ground truth, show it\n",
    "normalization = 50\n",
    "\n",
    "for fileexp_ind in range(len(fileexp_inds)):\n",
    "    filename = ncfiles[fileexp_inds[fileexp_ind]]\n",
    "    sim = xr.open_dataarray(datapath+filename)\n",
    "    # val.append(np.max(np.array(sim)[:dep,:,:].flatten()))\n",
    "    sim.close()\n",
    "    for t in range(dep):\n",
    "        dyn[fileexp_ind,0,t,:,:] = \\\n",
    "        torch.tensor( sim.isel(t=t)[:img_size,:img_size].values )#.clamp(max=normalization)/normalization"
   ]
  },
  {
   "cell_type": "code",
   "execution_count": null,
   "id": "6b77b305",
   "metadata": {},
   "outputs": [],
   "source": [
    "plt.figure()\n",
    "plt.imshow(dyn[0,0,1,:,:],origin='lower')\n",
    "plt.colorbar()\n",
    "plt.show()"
   ]
  },
  {
   "cell_type": "code",
   "execution_count": null,
   "id": "0f1b0fc0",
   "metadata": {},
   "outputs": [],
   "source": []
  },
  {
   "cell_type": "code",
   "execution_count": null,
   "id": "172c888d",
   "metadata": {},
   "outputs": [],
   "source": [
    "plt.figure()\n",
    "img = dyn[0,0,0,:,:]\n",
    "plt.imshow(img,origin='lower',vmin=-.2,vmax=0.6)\n",
    "plt.colorbar()\n",
    "plt.show()"
   ]
  },
  {
   "cell_type": "code",
   "execution_count": null,
   "id": "2e0a482d",
   "metadata": {},
   "outputs": [],
   "source": [
    "reload(utils)\n",
    "from utils import *"
   ]
  },
  {
   "cell_type": "code",
   "execution_count": null,
   "id": "88615308",
   "metadata": {
    "scrolled": false
   },
   "outputs": [],
   "source": [
    "noises = noise_generate(dyn,mode='real')"
   ]
  },
  {
   "cell_type": "code",
   "execution_count": null,
   "id": "5b6b258c",
   "metadata": {},
   "outputs": [],
   "source": [
    "plt.figure()\n",
    "img = noises[0,0,0,:,:]\n",
    "plt.imshow(img,origin='lower',vmin=-.2,vmax=0.6)\n",
    "plt.colorbar()\n",
    "plt.show()"
   ]
  },
  {
   "cell_type": "code",
   "execution_count": null,
   "id": "6bec1a4e",
   "metadata": {},
   "outputs": [],
   "source": [
    "img = dyn[0,0,0,:,:]\n",
    "img_full = complete(img)"
   ]
  },
  {
   "cell_type": "code",
   "execution_count": null,
   "id": "fdbaab72",
   "metadata": {},
   "outputs": [],
   "source": [
    "plt.figure(figsize=(5,5))\n",
    "plt.imshow(img_full)\n",
    "plt.colorbar()\n",
    "plt.show()"
   ]
  },
  {
   "cell_type": "code",
   "execution_count": null,
   "id": "cf9e66ef",
   "metadata": {},
   "outputs": [],
   "source": [
    "method = 'hansenlaw'\n",
    "img_abel  = abel.Transform(img_full, method=method, direction='forward').transform\n",
    "img_recon = abel.Transform(img_abel, method=method, direction='inverse').transform\n",
    "\n",
    "c = np.abs(img_abel).mean()\n",
    "factor = np.random.uniform(low=0 , high=.0005*c)\n",
    "bias   = np.random.uniform(low=-.0005*c , high=.0005*c)\n",
    "print(f'factor = {factor}, bias = {bias}')\n",
    "print(img_abel.shape)\n",
    "print(type(img_abel))\n",
    "\n",
    "x, y = meshgrid(...)\n",
    "# noise          = factor * img_abel + bias\n",
    "img_abel_noisy = img_abel + noise\n",
    "# img_recon_noisy = abel.direct.direct_transform(img_abel_noisy,direction='forward')\n",
    "img_recon_noisy = abel.Transform(img_abel_noisy, method=method, direction='inverse').transform\n",
    "\n",
    "\n",
    "err_recon_gt = np.linalg.norm(img_recon-img_full,ord='fro')/np.linalg.norm(img_full,ord='fro')\n",
    "print(f'method: {method},  diff btw recon and gt: {err_recon_gt}')\n",
    "\n",
    "plt.figure(figsize=(10,10))\n",
    "plt.title('central line profile ---  image domain')\n",
    "plt.plot(img_full[320,:],color='r',label='clean')\n",
    "# plt.plot(img_recon[320,:],color='g',label='abel recon, no noise')\n",
    "plt.plot(img_recon_noisy[320,:],color='g',linestyle='-.',label='abel recon, linear rand. noise')\n",
    "plt.legend(loc='best')\n",
    "plt.show()\n",
    "\n",
    "plt.figure(figsize=(10,10))\n",
    "plt.title('central line profile --- error')\n",
    "plt.plot(img_recon_noisy[320,:] - img_full[320,:],color='b')\n",
    "plt.legend(loc='best')\n",
    "plt.show()"
   ]
  },
  {
   "cell_type": "code",
   "execution_count": null,
   "id": "0d25b442",
   "metadata": {},
   "outputs": [],
   "source": [
    "# plt.figure(figsize=(10,10))\n",
    "# plt.imshow(img_abel)\n",
    "# plt.colorbar()\n",
    "# plt.show()\n",
    "\n",
    "plt.figure(figsize=(10,10))\n",
    "plt.title('central line profile_abel ground truth')\n",
    "plt.plot(img_abel[320,:],label='clean')\n",
    "plt.plot(img_abel_noisy[320,:],label='noisy')\n",
    "plt.legend(loc='best')\n",
    "plt.show()"
   ]
  }
 ],
 "metadata": {
  "kernelspec": {
   "display_name": "Python 3 (ipykernel)",
   "language": "python",
   "name": "python3"
  },
  "language_info": {
   "codemirror_mode": {
    "name": "ipython",
    "version": 3
   },
   "file_extension": ".py",
   "mimetype": "text/x-python",
   "name": "python",
   "nbconvert_exporter": "python",
   "pygments_lexer": "ipython3",
   "version": "3.9.5"
  }
 },
 "nbformat": 4,
 "nbformat_minor": 5
}
